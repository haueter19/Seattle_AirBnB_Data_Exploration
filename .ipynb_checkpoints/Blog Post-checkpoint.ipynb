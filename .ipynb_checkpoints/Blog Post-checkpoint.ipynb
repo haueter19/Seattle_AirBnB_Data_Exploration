{
 "cells": [
  {
   "cell_type": "code",
   "execution_count": 1,
   "id": "c1f345b1",
   "metadata": {},
   "outputs": [
    {
     "name": "stderr",
     "output_type": "stream",
     "text": [
      "[nltk_data] Downloading package punkt to\n",
      "[nltk_data]     C:\\Users\\pddnh\\AppData\\Roaming\\nltk_data...\n",
      "[nltk_data]   Package punkt is already up-to-date!\n",
      "[nltk_data] Downloading package wordnet to\n",
      "[nltk_data]     C:\\Users\\pddnh\\AppData\\Roaming\\nltk_data...\n",
      "[nltk_data]   Package wordnet is already up-to-date!\n",
      "[nltk_data] Downloading package averaged_perceptron_tagger to\n",
      "[nltk_data]     C:\\Users\\pddnh\\AppData\\Roaming\\nltk_data...\n",
      "[nltk_data]   Package averaged_perceptron_tagger is already up-to-\n",
      "[nltk_data]       date!\n"
     ]
    }
   ],
   "source": [
    "import numpy as np\n",
    "import pandas as pd\n",
    "pd.set_option('display.max_columns', None)\n",
    "import time\n",
    "import os\n",
    "import math\n",
    "import json\n",
    "import time\n",
    "import datetime\n",
    "import re\n",
    "import seaborn as sns\n",
    "from plotly import graph_objects as go\n",
    "import plotly.express as px\n",
    "from sklearn import preprocessing\n",
    "from sklearn.model_selection import train_test_split\n",
    "from sklearn.linear_model import LinearRegression\n",
    "from sklearn.tree import DecisionTreeClassifier\n",
    "from sklearn.tree import DecisionTreeRegressor\n",
    "from sklearn.linear_model import LogisticRegression\n",
    "from sklearn.ensemble import RandomForestRegressor\n",
    "from sklearn.preprocessing import PowerTransformer \n",
    "import nltk\n",
    "nltk.download(['punkt', 'wordnet', 'averaged_perceptron_tagger'])\n",
    "from nltk.tokenize import word_tokenize\n",
    "from nltk.tokenize import sent_tokenize\n",
    "from nltk.probability import FreqDist\n",
    "from nltk.corpus import stopwords\n",
    "from wordcloud import WordCloud\n",
    "from nltk.stem import WordNetLemmatizer\n",
    "from nltk.stem import SnowballStemmer\n",
    "stemmer = SnowballStemmer('english')\n",
    "stop_words = set(stopwords.words('english'))\n",
    "from sklearn.svm import LinearSVC\n",
    "le = preprocessing.LabelEncoder()\n",
    "now = datetime.datetime.now()\n",
    "from Queries import mapbox_token"
   ]
  },
  {
   "cell_type": "markdown",
   "id": "711711c8",
   "metadata": {},
   "source": [
    "#### Import initial datasets"
   ]
  },
  {
   "cell_type": "code",
   "execution_count": 37,
   "id": "b6b1dd2f",
   "metadata": {},
   "outputs": [],
   "source": [
    "listings = pd.read_csv('listings.csv')\n",
    "cal = pd.read_csv('calendar.csv')\n",
    "rev = pd.read_csv('reviews.csv')"
   ]
  },
  {
   "cell_type": "markdown",
   "id": "f92f029b",
   "metadata": {},
   "source": [
    "#### Examine the column names, types and non-null counts"
   ]
  },
  {
   "cell_type": "code",
   "execution_count": 3,
   "id": "d825b260",
   "metadata": {},
   "outputs": [
    {
     "name": "stdout",
     "output_type": "stream",
     "text": [
      "<class 'pandas.core.frame.DataFrame'>\n",
      "RangeIndex: 3818 entries, 0 to 3817\n",
      "Data columns (total 92 columns):\n",
      " #   Column                            Non-Null Count  Dtype  \n",
      "---  ------                            --------------  -----  \n",
      " 0   id                                3818 non-null   int64  \n",
      " 1   listing_url                       3818 non-null   object \n",
      " 2   scrape_id                         3818 non-null   int64  \n",
      " 3   last_scraped                      3818 non-null   object \n",
      " 4   name                              3818 non-null   object \n",
      " 5   summary                           3641 non-null   object \n",
      " 6   space                             3249 non-null   object \n",
      " 7   description                       3818 non-null   object \n",
      " 8   experiences_offered               3818 non-null   object \n",
      " 9   neighborhood_overview             2786 non-null   object \n",
      " 10  notes                             2212 non-null   object \n",
      " 11  transit                           2884 non-null   object \n",
      " 12  thumbnail_url                     3498 non-null   object \n",
      " 13  medium_url                        3498 non-null   object \n",
      " 14  picture_url                       3818 non-null   object \n",
      " 15  xl_picture_url                    3498 non-null   object \n",
      " 16  host_id                           3818 non-null   int64  \n",
      " 17  host_url                          3818 non-null   object \n",
      " 18  host_name                         3816 non-null   object \n",
      " 19  host_since                        3816 non-null   object \n",
      " 20  host_location                     3810 non-null   object \n",
      " 21  host_about                        2959 non-null   object \n",
      " 22  host_response_time                3295 non-null   object \n",
      " 23  host_response_rate                3295 non-null   object \n",
      " 24  host_acceptance_rate              3045 non-null   object \n",
      " 25  host_is_superhost                 3816 non-null   object \n",
      " 26  host_thumbnail_url                3816 non-null   object \n",
      " 27  host_picture_url                  3816 non-null   object \n",
      " 28  host_neighbourhood                3518 non-null   object \n",
      " 29  host_listings_count               3816 non-null   float64\n",
      " 30  host_total_listings_count         3816 non-null   float64\n",
      " 31  host_verifications                3818 non-null   object \n",
      " 32  host_has_profile_pic              3816 non-null   object \n",
      " 33  host_identity_verified            3816 non-null   object \n",
      " 34  street                            3818 non-null   object \n",
      " 35  neighbourhood                     3402 non-null   object \n",
      " 36  neighbourhood_cleansed            3818 non-null   object \n",
      " 37  neighbourhood_group_cleansed      3818 non-null   object \n",
      " 38  city                              3818 non-null   object \n",
      " 39  state                             3818 non-null   object \n",
      " 40  zipcode                           3811 non-null   object \n",
      " 41  market                            3818 non-null   object \n",
      " 42  smart_location                    3818 non-null   object \n",
      " 43  country_code                      3818 non-null   object \n",
      " 44  country                           3818 non-null   object \n",
      " 45  latitude                          3818 non-null   float64\n",
      " 46  longitude                         3818 non-null   float64\n",
      " 47  is_location_exact                 3818 non-null   object \n",
      " 48  property_type                     3817 non-null   object \n",
      " 49  room_type                         3818 non-null   object \n",
      " 50  accommodates                      3818 non-null   int64  \n",
      " 51  bathrooms                         3802 non-null   float64\n",
      " 52  bedrooms                          3812 non-null   float64\n",
      " 53  beds                              3817 non-null   float64\n",
      " 54  bed_type                          3818 non-null   object \n",
      " 55  amenities                         3818 non-null   object \n",
      " 56  square_feet                       97 non-null     float64\n",
      " 57  price                             3818 non-null   object \n",
      " 58  weekly_price                      2009 non-null   object \n",
      " 59  monthly_price                     1517 non-null   object \n",
      " 60  security_deposit                  1866 non-null   object \n",
      " 61  cleaning_fee                      2788 non-null   object \n",
      " 62  guests_included                   3818 non-null   int64  \n",
      " 63  extra_people                      3818 non-null   object \n",
      " 64  minimum_nights                    3818 non-null   int64  \n",
      " 65  maximum_nights                    3818 non-null   int64  \n",
      " 66  calendar_updated                  3818 non-null   object \n",
      " 67  has_availability                  3818 non-null   object \n",
      " 68  availability_30                   3818 non-null   int64  \n",
      " 69  availability_60                   3818 non-null   int64  \n",
      " 70  availability_90                   3818 non-null   int64  \n",
      " 71  availability_365                  3818 non-null   int64  \n",
      " 72  calendar_last_scraped             3818 non-null   object \n",
      " 73  number_of_reviews                 3818 non-null   int64  \n",
      " 74  first_review                      3191 non-null   object \n",
      " 75  last_review                       3191 non-null   object \n",
      " 76  review_scores_rating              3171 non-null   float64\n",
      " 77  review_scores_accuracy            3160 non-null   float64\n",
      " 78  review_scores_cleanliness         3165 non-null   float64\n",
      " 79  review_scores_checkin             3160 non-null   float64\n",
      " 80  review_scores_communication       3167 non-null   float64\n",
      " 81  review_scores_location            3163 non-null   float64\n",
      " 82  review_scores_value               3162 non-null   float64\n",
      " 83  requires_license                  3818 non-null   object \n",
      " 84  license                           0 non-null      float64\n",
      " 85  jurisdiction_names                3818 non-null   object \n",
      " 86  instant_bookable                  3818 non-null   object \n",
      " 87  cancellation_policy               3818 non-null   object \n",
      " 88  require_guest_profile_picture     3818 non-null   object \n",
      " 89  require_guest_phone_verification  3818 non-null   object \n",
      " 90  calculated_host_listings_count    3818 non-null   int64  \n",
      " 91  reviews_per_month                 3191 non-null   float64\n",
      "dtypes: float64(17), int64(13), object(62)\n",
      "memory usage: 2.7+ MB\n"
     ]
    }
   ],
   "source": [
    "listings.info()"
   ]
  },
  {
   "cell_type": "code",
   "execution_count": 4,
   "id": "bf4dbe10",
   "metadata": {},
   "outputs": [
    {
     "name": "stdout",
     "output_type": "stream",
     "text": [
      "<class 'pandas.core.frame.DataFrame'>\n",
      "RangeIndex: 1393570 entries, 0 to 1393569\n",
      "Data columns (total 4 columns):\n",
      " #   Column      Non-Null Count    Dtype \n",
      "---  ------      --------------    ----- \n",
      " 0   listing_id  1393570 non-null  int64 \n",
      " 1   date        1393570 non-null  object\n",
      " 2   available   1393570 non-null  object\n",
      " 3   price       934542 non-null   object\n",
      "dtypes: int64(1), object(3)\n",
      "memory usage: 42.5+ MB\n"
     ]
    }
   ],
   "source": [
    "cal.info()"
   ]
  },
  {
   "cell_type": "code",
   "execution_count": 5,
   "id": "2fc09cb5",
   "metadata": {},
   "outputs": [
    {
     "name": "stdout",
     "output_type": "stream",
     "text": [
      "<class 'pandas.core.frame.DataFrame'>\n",
      "RangeIndex: 84849 entries, 0 to 84848\n",
      "Data columns (total 6 columns):\n",
      " #   Column         Non-Null Count  Dtype \n",
      "---  ------         --------------  ----- \n",
      " 0   listing_id     84849 non-null  int64 \n",
      " 1   id             84849 non-null  int64 \n",
      " 2   date           84849 non-null  object\n",
      " 3   reviewer_id    84849 non-null  int64 \n",
      " 4   reviewer_name  84849 non-null  object\n",
      " 5   comments       84831 non-null  object\n",
      "dtypes: int64(3), object(3)\n",
      "memory usage: 3.9+ MB\n"
     ]
    }
   ],
   "source": [
    "rev.info()"
   ]
  },
  {
   "cell_type": "markdown",
   "id": "520d4bf6",
   "metadata": {},
   "source": [
    "After perusing the fields, I removed several columns simply to make the dataframe easier to work with. I also converted the price field to a float. "
   ]
  },
  {
   "cell_type": "code",
   "execution_count": 38,
   "id": "3c3494a1",
   "metadata": {},
   "outputs": [],
   "source": [
    "listings = listings.drop(columns=['experiences_offered', 'thumbnail_url', 'medium_url', 'picture_url', 'xl_picture_url', 'host_url', 'host_thumbnail_url', 'host_picture_url', 'city', 'state', 'smart_location', 'market', 'license', 'country', 'country_code'])\n",
    "listings['price'] = listings.price.apply(lambda x: float(re.sub(r'[$,]','',x)))\n",
    "listings['price_per'] = listings['price'] / listings['accommodates']\n",
    "\n",
    "listings.cleaning_fee.fillna('0',inplace=True)\n",
    "listings['cleaning_fee'] = listings.cleaning_fee.apply(lambda x: np.nan if x==np.nan else float(re.sub(r'[$,]','',x)))\n",
    "\n",
    "cal.price.fillna('0',inplace=True)\n",
    "cal['price'] = cal.price.apply(lambda x: np.nan if x==np.nan else float(re.sub(r'[$,]','',x)))"
   ]
  },
  {
   "cell_type": "markdown",
   "id": "c2bb895e",
   "metadata": {},
   "source": [
    "Convert the calendar date to a datetime and introduce other date related fields such as month and day of week. "
   ]
  },
  {
   "cell_type": "code",
   "execution_count": 39,
   "id": "404ea96f",
   "metadata": {},
   "outputs": [],
   "source": [
    "cal['date'] = pd.to_datetime(cal['date'])\n",
    "cal['month'] = cal.date.apply(lambda x: x.month)\n",
    "cal['weekday'] = cal.date.apply(lambda x: x.weekday())"
   ]
  },
  {
   "cell_type": "markdown",
   "id": "26d5daf8",
   "metadata": {},
   "source": [
    "The calendar's available field is represented with \"t\" and \"f\". I prefer a 1 and 0 so I make that conversion."
   ]
  },
  {
   "cell_type": "code",
   "execution_count": 40,
   "id": "f31f5b31",
   "metadata": {},
   "outputs": [],
   "source": [
    "cal['available'] = cal.available.replace('t',1).replace('f',0)"
   ]
  },
  {
   "cell_type": "markdown",
   "id": "38e8b8cd",
   "metadata": {},
   "source": [
    "### Question 1: What can we learn about the availability of listings? Is there seasonality?"
   ]
  },
  {
   "cell_type": "markdown",
   "id": "19e8b698",
   "metadata": {},
   "source": [
    "The chart shows overall capacity for Seattle Airbnb listings. Listings have a field called <code>accommodates</code> which I have summed by date. We observe a quick increase in total accommodated space until late March. In early April there is a sizable drop and another such drop in early July. I'm tempted to infer this is related to Easter/Spring Break and the 4th of July holiday. However, the largest individual drops in accommodations aren't clearly associated with holidays. For example, 6 of the top 10 largest drops occur in January. It's unclear exactly what is causing these drops in accommodations. "
   ]
  },
  {
   "cell_type": "code",
   "execution_count": 41,
   "id": "78d37958",
   "metadata": {},
   "outputs": [
    {
     "data": {
      "text/plain": [
       "<AxesSubplot:xlabel='date'>"
      ]
     },
     "execution_count": 41,
     "metadata": {},
     "output_type": "execute_result"
    },
    {
     "data": {
      "image/png": "[encoded data removed]",
      "text/plain": [
       "<Figure size 432x288 with 1 Axes>"
      ]
     },
     "metadata": {
      "needs_background": "light"
     },
     "output_type": "display_data"
    }
   ],
   "source": [
    "cal = cal.merge(listings[['id', 'accommodates']], left_on='listing_id', right_on='id', how='inner')\n",
    "cal.query('available==1').groupby('date')['accommodates'].sum().plot()"
   ]
  },
  {
   "cell_type": "markdown",
   "id": "9d7aa556",
   "metadata": {},
   "source": [
    "Top 10 dates for drops in accommodations"
   ]
  },
  {
   "cell_type": "code",
   "execution_count": 42,
   "id": "e792dcc8",
   "metadata": {},
   "outputs": [
    {
     "data": {
      "text/html": [
       "<div>\n",
       "<style scoped>\n",
       "    .dataframe tbody tr th:only-of-type {\n",
       "        vertical-align: middle;\n",
       "    }\n",
       "\n",
       "    .dataframe tbody tr th {\n",
       "        vertical-align: top;\n",
       "    }\n",
       "\n",
       "    .dataframe thead th {\n",
       "        text-align: right;\n",
       "    }\n",
       "</style>\n",
       "<table border=\"1\" class=\"dataframe\">\n",
       "  <thead>\n",
       "    <tr style=\"text-align: right;\">\n",
       "      <th></th>\n",
       "      <th>date</th>\n",
       "      <th>accommodates</th>\n",
       "      <th>Pct_Chg</th>\n",
       "    </tr>\n",
       "  </thead>\n",
       "  <tbody>\n",
       "    <tr>\n",
       "      <th>179</th>\n",
       "      <td>2016-07-01</td>\n",
       "      <td>7794</td>\n",
       "      <td>-0.103107</td>\n",
       "    </tr>\n",
       "    <tr>\n",
       "      <th>89</th>\n",
       "      <td>2016-04-02</td>\n",
       "      <td>8242</td>\n",
       "      <td>-0.094286</td>\n",
       "    </tr>\n",
       "    <tr>\n",
       "      <th>364</th>\n",
       "      <td>2017-01-02</td>\n",
       "      <td>9183</td>\n",
       "      <td>-0.063819</td>\n",
       "    </tr>\n",
       "    <tr>\n",
       "      <th>11</th>\n",
       "      <td>2016-01-15</td>\n",
       "      <td>6388</td>\n",
       "      <td>-0.047136</td>\n",
       "    </tr>\n",
       "    <tr>\n",
       "      <th>24</th>\n",
       "      <td>2016-01-28</td>\n",
       "      <td>7405</td>\n",
       "      <td>-0.035682</td>\n",
       "    </tr>\n",
       "    <tr>\n",
       "      <th>3</th>\n",
       "      <td>2016-01-07</td>\n",
       "      <td>5875</td>\n",
       "      <td>-0.033876</td>\n",
       "    </tr>\n",
       "    <tr>\n",
       "      <th>10</th>\n",
       "      <td>2016-01-14</td>\n",
       "      <td>6704</td>\n",
       "      <td>-0.027419</td>\n",
       "    </tr>\n",
       "    <tr>\n",
       "      <th>2</th>\n",
       "      <td>2016-01-06</td>\n",
       "      <td>6081</td>\n",
       "      <td>-0.027351</td>\n",
       "    </tr>\n",
       "    <tr>\n",
       "      <th>158</th>\n",
       "      <td>2016-06-10</td>\n",
       "      <td>8110</td>\n",
       "      <td>-0.022774</td>\n",
       "    </tr>\n",
       "    <tr>\n",
       "      <th>157</th>\n",
       "      <td>2016-06-09</td>\n",
       "      <td>8299</td>\n",
       "      <td>-0.021575</td>\n",
       "    </tr>\n",
       "  </tbody>\n",
       "</table>\n",
       "</div>"
      ],
      "text/plain": [
       "          date  accommodates   Pct_Chg\n",
       "179 2016-07-01          7794 -0.103107\n",
       "89  2016-04-02          8242 -0.094286\n",
       "364 2017-01-02          9183 -0.063819\n",
       "11  2016-01-15          6388 -0.047136\n",
       "24  2016-01-28          7405 -0.035682\n",
       "3   2016-01-07          5875 -0.033876\n",
       "10  2016-01-14          6704 -0.027419\n",
       "2   2016-01-06          6081 -0.027351\n",
       "158 2016-06-10          8110 -0.022774\n",
       "157 2016-06-09          8299 -0.021575"
      ]
     },
     "execution_count": 42,
     "metadata": {},
     "output_type": "execute_result"
    }
   ],
   "source": [
    "accommodates_by_date = cal.query('available==1').groupby('date')['accommodates'].sum().reset_index()\n",
    "accommodates_by_date['Pct_Chg'] = accommodates_by_date['accommodates'].pct_change()\n",
    "accommodates_by_date.sort_values('Pct_Chg', ascending=True).head(10)"
   ]
  },
  {
   "cell_type": "markdown",
   "id": "a4f17950",
   "metadata": {},
   "source": [
    "Also, it is odd that the availability is so much lower in January than December. I suspect this plot reflects the fact that some listings developed, or came online, as the year progressed. Because each listing in calendar.csv has 365 associated records, it would seem that the dataset was retroactively created to reflect listing availability for every day of the year. This presents a challenge for understanding various aspects of this business. "
   ]
  },
  {
   "cell_type": "markdown",
   "id": "e619f195",
   "metadata": {},
   "source": [
    "The <code>availability_365</code> field gives us some insight into the number of days out of a year that each listing is available. The histogram here shows that the vast majority of listings are available for over 300 days out of the year. The others are somewhat evenly distributed across the other total numbers of days. If the mode listing is availability for the majority of days in a year, and new listings are coming online evenly throughout the year, then this histogram would appear to support that conclusion."
   ]
  },
  {
   "cell_type": "code",
   "execution_count": 43,
   "id": "62c5b478",
   "metadata": {},
   "outputs": [
    {
     "data": {
      "text/plain": [
       "<AxesSubplot:>"
      ]
     },
     "execution_count": 43,
     "metadata": {},
     "output_type": "execute_result"
    },
    {
     "data": {
      "image/png": "[encoded data removed]",
      "text/plain": [
       "<Figure size 432x288 with 1 Axes>"
      ]
     },
     "metadata": {
      "needs_background": "light"
     },
     "output_type": "display_data"
    }
   ],
   "source": [
    "listings.availability_365.hist()"
   ]
  },
  {
   "cell_type": "markdown",
   "id": "fbe4ff3f",
   "metadata": {},
   "source": [
    "Monthly availability shows a dip in the summer"
   ]
  },
  {
   "cell_type": "code",
   "execution_count": 44,
   "id": "53876616",
   "metadata": {},
   "outputs": [
    {
     "data": {
      "text/plain": [
       "<AxesSubplot:xlabel='month'>"
      ]
     },
     "execution_count": 44,
     "metadata": {},
     "output_type": "execute_result"
    },
    {
     "data": {
      "image/png": "[encoded data removed]",
      "text/plain": [
       "<Figure size 432x288 with 1 Axes>"
      ]
     },
     "metadata": {
      "needs_background": "light"
     },
     "output_type": "display_data"
    }
   ],
   "source": [
    "cal.groupby('month')['available'].mean().plot()"
   ]
  },
  {
   "cell_type": "markdown",
   "id": "d2cad044",
   "metadata": {},
   "source": [
    "Weekly availability shows the least availibility on Fri and Sat"
   ]
  },
  {
   "cell_type": "code",
   "execution_count": 45,
   "id": "fc2d901a",
   "metadata": {},
   "outputs": [
    {
     "data": {
      "text/plain": [
       "<AxesSubplot:xlabel='weekday'>"
      ]
     },
     "execution_count": 45,
     "metadata": {},
     "output_type": "execute_result"
    },
    {
     "data": {
      "image/png": "[encoded data removed]",
      "text/plain": [
       "<Figure size 432x288 with 1 Axes>"
      ]
     },
     "metadata": {
      "needs_background": "light"
     },
     "output_type": "display_data"
    }
   ],
   "source": [
    "cal.groupby('weekday')['available'].mean().plot()"
   ]
  },
  {
   "cell_type": "markdown",
   "id": "7572595e",
   "metadata": {},
   "source": [
    "### Question 2: How does asking price"
   ]
  },
  {
   "cell_type": "markdown",
   "id": "d9feb03b",
   "metadata": {},
   "source": [
    "Despite the challenge previously discussed, it is possible to look at the price requested on days that a listing was available, aggregate by month, and find the average. A quick glimpse at the shape of the price histogram shows the dataset is skewed right. As a result, I will use median rather than mean for my measure of centrality."
   ]
  },
  {
   "cell_type": "code",
   "execution_count": 46,
   "id": "8b8c17da",
   "metadata": {},
   "outputs": [
    {
     "data": {
      "text/plain": [
       "<AxesSubplot:>"
      ]
     },
     "execution_count": 46,
     "metadata": {},
     "output_type": "execute_result"
    },
    {
     "data": {
      "image/png": "[encoded data removed]",
      "text/plain": [
       "<Figure size 432x288 with 1 Axes>"
      ]
     },
     "metadata": {
      "needs_background": "light"
     },
     "output_type": "display_data"
    }
   ],
   "source": [
    "listings.price.hist(bins=30)"
   ]
  },
  {
   "cell_type": "code",
   "execution_count": 47,
   "id": "fbf3850e",
   "metadata": {},
   "outputs": [
    {
     "data": {
      "text/plain": [
       "<AxesSubplot:xlabel='month'>"
      ]
     },
     "execution_count": 47,
     "metadata": {},
     "output_type": "execute_result"
    },
    {
     "data": {
      "image/png": "[encoded data removed]",
      "text/plain": [
       "<Figure size 432x288 with 1 Axes>"
      ]
     },
     "metadata": {
      "needs_background": "light"
     },
     "output_type": "display_data"
    }
   ],
   "source": [
    "cal.query('available==1').groupby('month')['price'].median().plot()"
   ]
  },
  {
   "cell_type": "markdown",
   "id": "2966aa2f",
   "metadata": {},
   "source": [
    "Additionally, median price can be viewed by day of the week. The next plot will show that the median price rises the most for Fri and Sat. Though there is a clear difference, it is not a large change in total dollars."
   ]
  },
  {
   "cell_type": "code",
   "execution_count": 48,
   "id": "f7d3281f",
   "metadata": {},
   "outputs": [
    {
     "data": {
      "text/plain": [
       "<AxesSubplot:xlabel='weekday'>"
      ]
     },
     "execution_count": 48,
     "metadata": {},
     "output_type": "execute_result"
    },
    {
     "data": {
      "image/png": "[encoded data removed]",
      "text/plain": [
       "<Figure size 432x288 with 1 Axes>"
      ]
     },
     "metadata": {
      "needs_background": "light"
     },
     "output_type": "display_data"
    }
   ],
   "source": [
    "cal.query('available==1').groupby('weekday')['price'].median().plot()"
   ]
  },
  {
   "cell_type": "markdown",
   "id": "eccca0f1",
   "metadata": {},
   "source": [
    "Here is another chart to hammer home the weekly and seasonal changes in price."
   ]
  },
  {
   "cell_type": "code",
   "execution_count": 49,
   "id": "3ef797c2",
   "metadata": {},
   "outputs": [
    {
     "data": {
      "text/plain": [
       "<AxesSubplot:xlabel='date'>"
      ]
     },
     "execution_count": 49,
     "metadata": {},
     "output_type": "execute_result"
    },
    {
     "data": {
      "image/png": "[encoded data removed]",
      "text/plain": [
       "<Figure size 432x288 with 1 Axes>"
      ]
     },
     "metadata": {
      "needs_background": "light"
     },
     "output_type": "display_data"
    }
   ],
   "source": [
    "cal.query('available==1').groupby('date')['price'].median().plot()"
   ]
  },
  {
   "cell_type": "markdown",
   "id": "68cfb4de",
   "metadata": {},
   "source": [
    "I was curious to see if the price would increase for holidays. I chose 12 days associated with either a holiday or a holiday eve and compared the median price to non-holidays. "
   ]
  },
  {
   "cell_type": "code",
   "execution_count": 50,
   "id": "71463f6d",
   "metadata": {},
   "outputs": [],
   "source": [
    "holidays = [\n",
    "    pd.to_datetime('2016-03-27'), pd.to_datetime('2016-07-04'), pd.to_datetime('2016-05-30'), \n",
    "    pd.to_datetime('2016-07-04'), pd.to_datetime('2016-09-05'), pd.to_datetime('2016-11-24'), \n",
    "    pd.to_datetime('2016-11-25'), pd.to_datetime('2016-12-24'), pd.to_datetime('2016-12-25'), \n",
    "    pd.to_datetime('2016-12-31'), pd.to_datetime('2017-01-01'), pd.to_datetime('2016-01-18'),\n",
    "]\n",
    "\n",
    "cal['holiday'] = cal['date'].apply(lambda x: 1 if pd.to_datetime(x) in holidays else 0)"
   ]
  },
  {
   "cell_type": "markdown",
   "id": "2d3eb010",
   "metadata": {},
   "source": [
    "There is no difference observed. "
   ]
  },
  {
   "cell_type": "code",
   "execution_count": 51,
   "id": "58005dd2",
   "metadata": {},
   "outputs": [
    {
     "data": {
      "text/plain": [
       "holiday\n",
       "0    109.0\n",
       "1    109.0\n",
       "Name: price, dtype: float64"
      ]
     },
     "execution_count": 51,
     "metadata": {},
     "output_type": "execute_result"
    }
   ],
   "source": [
    "cal.query('available==1').groupby('holiday')['price'].median()"
   ]
  },
  {
   "cell_type": "markdown",
   "id": "06edf496",
   "metadata": {},
   "source": [
    "It would seem that the median price for available listings generally rises into the summer, then drops during fall before another small rise in December. Overall, the day of the week has a greater impact on the price requested for a listing. "
   ]
  },
  {
   "cell_type": "code",
   "execution_count": 52,
   "id": "8afb2ce5",
   "metadata": {},
   "outputs": [
    {
     "data": {
      "text/plain": [
       "<AxesSubplot:xlabel='neighbourhood_group_cleansed'>"
      ]
     },
     "execution_count": 52,
     "metadata": {},
     "output_type": "execute_result"
    },
    {
     "data": {
      "image/png": "[encoded data removed]",
      "text/plain": [
       "<Figure size 432x288 with 1 Axes>"
      ]
     },
     "metadata": {
      "needs_background": "light"
     },
     "output_type": "display_data"
    }
   ],
   "source": [
    "listings.groupby('neighbourhood_group_cleansed')['price'].median().sort_values().plot(kind='bar')"
   ]
  },
  {
   "cell_type": "markdown",
   "id": "dbb3baea",
   "metadata": {},
   "source": [
    "### Question 3: What are common features of super hosts?"
   ]
  },
  {
   "cell_type": "markdown",
   "id": "e44029e8",
   "metadata": {},
   "source": [
    "Because a listing would need to be booked in order to generate a review, we can assume that these review metrics are indicators of booking frequency. That said, they clearly are not perfect. It's possible to imagine scenarios where there is more than one review per stay, perhaps multiple people on a stay left a review, for example. It's also possible that particularly good or bad stays would be more likely to generate reviews, thus skewing the data. One further indication that the review metrics will work as a stand-in for booking popularity is that the average superhost listing price is not much higher or lower than other hosts, yet, they are getting more reviews. "
   ]
  },
  {
   "cell_type": "code",
   "execution_count": 53,
   "id": "0dbbb4c9",
   "metadata": {},
   "outputs": [],
   "source": [
    "listings['host_is_superhost'] = listings.host_is_superhost.replace('f',0).replace('t',1)"
   ]
  },
  {
   "cell_type": "markdown",
   "id": "b6c45700",
   "metadata": {},
   "source": [
    "They tend to have higher reviews"
   ]
  },
  {
   "cell_type": "code",
   "execution_count": 54,
   "id": "5a639b91",
   "metadata": {},
   "outputs": [
    {
     "data": {
      "text/html": [
       "<div>\n",
       "<style scoped>\n",
       "    .dataframe tbody tr th:only-of-type {\n",
       "        vertical-align: middle;\n",
       "    }\n",
       "\n",
       "    .dataframe tbody tr th {\n",
       "        vertical-align: top;\n",
       "    }\n",
       "\n",
       "    .dataframe thead th {\n",
       "        text-align: right;\n",
       "    }\n",
       "</style>\n",
       "<table border=\"1\" class=\"dataframe\">\n",
       "  <thead>\n",
       "    <tr style=\"text-align: right;\">\n",
       "      <th></th>\n",
       "      <th>review_scores_rating</th>\n",
       "      <th>review_scores_accuracy</th>\n",
       "      <th>review_scores_checkin</th>\n",
       "      <th>review_scores_communication</th>\n",
       "      <th>review_scores_location</th>\n",
       "      <th>review_scores_value</th>\n",
       "    </tr>\n",
       "    <tr>\n",
       "      <th>host_is_superhost</th>\n",
       "      <th></th>\n",
       "      <th></th>\n",
       "      <th></th>\n",
       "      <th></th>\n",
       "      <th></th>\n",
       "      <th></th>\n",
       "    </tr>\n",
       "  </thead>\n",
       "  <tbody>\n",
       "    <tr>\n",
       "      <th>0.0</th>\n",
       "      <td>93.652893</td>\n",
       "      <td>9.552511</td>\n",
       "      <td>9.731424</td>\n",
       "      <td>9.758278</td>\n",
       "      <td>9.564677</td>\n",
       "      <td>9.359602</td>\n",
       "    </tr>\n",
       "    <tr>\n",
       "      <th>1.0</th>\n",
       "      <td>97.395473</td>\n",
       "      <td>9.905459</td>\n",
       "      <td>9.964048</td>\n",
       "      <td>9.974700</td>\n",
       "      <td>9.750999</td>\n",
       "      <td>9.749667</td>\n",
       "    </tr>\n",
       "  </tbody>\n",
       "</table>\n",
       "</div>"
      ],
      "text/plain": [
       "                   review_scores_rating  review_scores_accuracy  \\\n",
       "host_is_superhost                                                 \n",
       "0.0                           93.652893                9.552511   \n",
       "1.0                           97.395473                9.905459   \n",
       "\n",
       "                   review_scores_checkin  review_scores_communication  \\\n",
       "host_is_superhost                                                       \n",
       "0.0                             9.731424                     9.758278   \n",
       "1.0                             9.964048                     9.974700   \n",
       "\n",
       "                   review_scores_location  review_scores_value  \n",
       "host_is_superhost                                               \n",
       "0.0                              9.564677             9.359602  \n",
       "1.0                              9.750999             9.749667  "
      ]
     },
     "execution_count": 54,
     "metadata": {},
     "output_type": "execute_result"
    }
   ],
   "source": [
    "listings.groupby('host_is_superhost')[['review_scores_rating', 'review_scores_accuracy', 'review_scores_checkin', 'review_scores_communication', 'review_scores_location', 'review_scores_value']].mean()"
   ]
  },
  {
   "cell_type": "markdown",
   "id": "53c3168e",
   "metadata": {},
   "source": [
    "They tend to be more available recently"
   ]
  },
  {
   "cell_type": "code",
   "execution_count": 55,
   "id": "6129d071",
   "metadata": {},
   "outputs": [
    {
     "data": {
      "text/html": [
       "<div>\n",
       "<style scoped>\n",
       "    .dataframe tbody tr th:only-of-type {\n",
       "        vertical-align: middle;\n",
       "    }\n",
       "\n",
       "    .dataframe tbody tr th {\n",
       "        vertical-align: top;\n",
       "    }\n",
       "\n",
       "    .dataframe thead th {\n",
       "        text-align: right;\n",
       "    }\n",
       "</style>\n",
       "<table border=\"1\" class=\"dataframe\">\n",
       "  <thead>\n",
       "    <tr style=\"text-align: right;\">\n",
       "      <th></th>\n",
       "      <th>availability_30</th>\n",
       "      <th>availability_60</th>\n",
       "      <th>availability_90</th>\n",
       "      <th>availability_365</th>\n",
       "    </tr>\n",
       "    <tr>\n",
       "      <th>host_is_superhost</th>\n",
       "      <th></th>\n",
       "      <th></th>\n",
       "      <th></th>\n",
       "      <th></th>\n",
       "    </tr>\n",
       "  </thead>\n",
       "  <tbody>\n",
       "    <tr>\n",
       "      <th>0.0</th>\n",
       "      <td>16.703752</td>\n",
       "      <td>36.444042</td>\n",
       "      <td>57.356155</td>\n",
       "      <td>245.831468</td>\n",
       "    </tr>\n",
       "    <tr>\n",
       "      <th>1.0</th>\n",
       "      <td>17.109254</td>\n",
       "      <td>38.276350</td>\n",
       "      <td>60.949871</td>\n",
       "      <td>241.149100</td>\n",
       "    </tr>\n",
       "  </tbody>\n",
       "</table>\n",
       "</div>"
      ],
      "text/plain": [
       "                   availability_30  availability_60  availability_90  \\\n",
       "host_is_superhost                                                      \n",
       "0.0                      16.703752        36.444042        57.356155   \n",
       "1.0                      17.109254        38.276350        60.949871   \n",
       "\n",
       "                   availability_365  \n",
       "host_is_superhost                    \n",
       "0.0                      245.831468  \n",
       "1.0                      241.149100  "
      ]
     },
     "execution_count": 55,
     "metadata": {},
     "output_type": "execute_result"
    }
   ],
   "source": [
    "listings.groupby('host_is_superhost')[['availability_30', 'availability_60', 'availability_90', 'availability_365']].mean()"
   ]
  },
  {
   "cell_type": "markdown",
   "id": "09375d3f",
   "metadata": {},
   "source": [
    "They are more responsive"
   ]
  },
  {
   "cell_type": "code",
   "execution_count": 56,
   "id": "00db5baa",
   "metadata": {},
   "outputs": [
    {
     "data": {
      "text/plain": [
       "<AxesSubplot:xlabel='host_response_time'>"
      ]
     },
     "execution_count": 56,
     "metadata": {},
     "output_type": "execute_result"
    },
    {
     "data": {
      "image/png": "[encoded data removed]",
      "text/plain": [
       "<Figure size 432x288 with 1 Axes>"
      ]
     },
     "metadata": {
      "needs_background": "light"
     },
     "output_type": "display_data"
    }
   ],
   "source": [
    "listings.groupby('host_response_time')['host_is_superhost'].mean().plot(kind='bar')"
   ]
  },
  {
   "cell_type": "markdown",
   "id": "f9bb45f4",
   "metadata": {},
   "source": [
    "They are more likely to offer a real bed"
   ]
  },
  {
   "cell_type": "code",
   "execution_count": 57,
   "id": "531f74fc",
   "metadata": {},
   "outputs": [
    {
     "data": {
      "text/plain": [
       "<AxesSubplot:xlabel='bed_type'>"
      ]
     },
     "execution_count": 57,
     "metadata": {},
     "output_type": "execute_result"
    },
    {
     "data": {
      "image/png": "[encoded data removed]",
      "text/plain": [
       "<Figure size 432x288 with 1 Axes>"
      ]
     },
     "metadata": {
      "needs_background": "light"
     },
     "output_type": "display_data"
    }
   ],
   "source": [
    "listings.groupby('bed_type')['host_is_superhost'].mean().plot(kind='bar')"
   ]
  },
  {
   "cell_type": "code",
   "execution_count": 58,
   "id": "3afc00fa",
   "metadata": {},
   "outputs": [
    {
     "data": {
      "text/plain": [
       "<AxesSubplot:xlabel='host_is_superhost'>"
      ]
     },
     "execution_count": 58,
     "metadata": {},
     "output_type": "execute_result"
    },
    {
     "data": {
      "image/png": "[encoded data removed]",
      "text/plain": [
       "<Figure size 432x288 with 1 Axes>"
      ]
     },
     "metadata": {
      "needs_background": "light"
     },
     "output_type": "display_data"
    }
   ],
   "source": [
    "listings.groupby('host_is_superhost')['reviews_per_month'].mean().plot(kind='bar')"
   ]
  },
  {
   "cell_type": "markdown",
   "id": "8de5396e",
   "metadata": {},
   "source": [
    "They get more reviews"
   ]
  },
  {
   "cell_type": "code",
   "execution_count": 59,
   "id": "043f0ed5",
   "metadata": {},
   "outputs": [
    {
     "data": {
      "text/plain": [
       "<AxesSubplot:xlabel='host_is_superhost'>"
      ]
     },
     "execution_count": 59,
     "metadata": {},
     "output_type": "execute_result"
    },
    {
     "data": {
      "image/png": "[encoded data removed]",
      "text/plain": [
       "<Figure size 432x288 with 1 Axes>"
      ]
     },
     "metadata": {
      "needs_background": "light"
     },
     "output_type": "display_data"
    }
   ],
   "source": [
    "listings.groupby('host_is_superhost')['number_of_reviews'].mean().plot(kind=\"bar\")"
   ]
  },
  {
   "cell_type": "code",
   "execution_count": 60,
   "id": "a4ebf778",
   "metadata": {},
   "outputs": [
    {
     "data": {
      "text/plain": [
       "host_is_superhost\n",
       "0.0    2008-11-10\n",
       "1.0    2009-01-08\n",
       "Name: host_since, dtype: object"
      ]
     },
     "execution_count": 60,
     "metadata": {},
     "output_type": "execute_result"
    }
   ],
   "source": [
    "listings.groupby('host_is_superhost')['host_since'].min()"
   ]
  },
  {
   "cell_type": "markdown",
   "id": "1c0b0fe7",
   "metadata": {},
   "source": [
    "They have been hosts for longer"
   ]
  },
  {
   "cell_type": "code",
   "execution_count": 61,
   "id": "3ad39f02",
   "metadata": {},
   "outputs": [],
   "source": [
    "listings['host_since'] = listings.host_since.apply(lambda x: pd.to_datetime(x))\n",
    "listings['host_since_days'] = listings.host_since.apply(lambda x: (pd.to_datetime('2017-01-02') - x).days)"
   ]
  },
  {
   "cell_type": "code",
   "execution_count": 62,
   "id": "14442ebd",
   "metadata": {},
   "outputs": [
    {
     "data": {
      "text/plain": [
       "<AxesSubplot:xlabel='host_is_superhost'>"
      ]
     },
     "execution_count": 62,
     "metadata": {},
     "output_type": "execute_result"
    },
    {
     "data": {
      "image/png": "[encoded data removed]",
      "text/plain": [
       "<Figure size 432x288 with 1 Axes>"
      ]
     },
     "metadata": {
      "needs_background": "light"
     },
     "output_type": "display_data"
    }
   ],
   "source": [
    "listings.groupby('host_is_superhost')['host_since_days'].mean().plot(kind='bar')"
   ]
  },
  {
   "cell_type": "markdown",
   "id": "528fd388",
   "metadata": {},
   "source": [
    "I have created bins for the <code>number_of_reviews</code> field in order to explore how this field interacts with the price"
   ]
  },
  {
   "cell_type": "code",
   "execution_count": 63,
   "id": "c6ca4b05",
   "metadata": {},
   "outputs": [
    {
     "data": {
      "text/html": [
       "<div>\n",
       "<style scoped>\n",
       "    .dataframe tbody tr th:only-of-type {\n",
       "        vertical-align: middle;\n",
       "    }\n",
       "\n",
       "    .dataframe tbody tr th {\n",
       "        vertical-align: top;\n",
       "    }\n",
       "\n",
       "    .dataframe thead th {\n",
       "        text-align: right;\n",
       "    }\n",
       "</style>\n",
       "<table border=\"1\" class=\"dataframe\">\n",
       "  <thead>\n",
       "    <tr style=\"text-align: right;\">\n",
       "      <th></th>\n",
       "      <th>id</th>\n",
       "      <th>price</th>\n",
       "      <th>host_is_superhost</th>\n",
       "    </tr>\n",
       "    <tr>\n",
       "      <th>bin</th>\n",
       "      <th></th>\n",
       "      <th></th>\n",
       "      <th></th>\n",
       "    </tr>\n",
       "  </thead>\n",
       "  <tbody>\n",
       "    <tr>\n",
       "      <th>&lt;10</th>\n",
       "      <td>1422</td>\n",
       "      <td>114.0</td>\n",
       "      <td>0.085795</td>\n",
       "    </tr>\n",
       "    <tr>\n",
       "      <th>10-19</th>\n",
       "      <td>608</td>\n",
       "      <td>100.0</td>\n",
       "      <td>0.236842</td>\n",
       "    </tr>\n",
       "    <tr>\n",
       "      <th>20-29</th>\n",
       "      <td>339</td>\n",
       "      <td>105.0</td>\n",
       "      <td>0.377581</td>\n",
       "    </tr>\n",
       "    <tr>\n",
       "      <th>30+</th>\n",
       "      <td>658</td>\n",
       "      <td>95.0</td>\n",
       "      <td>0.430091</td>\n",
       "    </tr>\n",
       "  </tbody>\n",
       "</table>\n",
       "</div>"
      ],
      "text/plain": [
       "         id  price  host_is_superhost\n",
       "bin                                  \n",
       "<10    1422  114.0           0.085795\n",
       "10-19   608  100.0           0.236842\n",
       "20-29   339  105.0           0.377581\n",
       "30+     658   95.0           0.430091"
      ]
     },
     "execution_count": 63,
     "metadata": {},
     "output_type": "execute_result"
    }
   ],
   "source": [
    "listings['bin'] = pd.cut(listings.number_of_reviews, bins=[0, 10, 20, 30, 99], labels=['<10', '10-19','20-29','30+'])\n",
    "listings.groupby('bin').agg({'id':'count', 'price':'median', 'host_is_superhost':'mean'})"
   ]
  },
  {
   "cell_type": "markdown",
   "id": "e3b163bb",
   "metadata": {},
   "source": [
    "The result shows that the median listing price is (generally) inversely related to the number of reviews. That indicates that lower priced listings are generally more popular than higher priced listings. Also, the likelihood of the host being a superhost tends to go up with the number of reviews and counter to the price. "
   ]
  },
  {
   "cell_type": "markdown",
   "id": "34e982eb",
   "metadata": {},
   "source": [
    "Although listings with more reviews are more likely to be hosted by a superhost and cost less, overall the average and median cost of booking with a superhost is more than with a regular host. However, the difference is only a few dollars. It would not be surprising to learn that renters would find the value worthwhile given the better reviews, responsiveness, and trustworthiness that comes with superhost status. "
   ]
  },
  {
   "cell_type": "code",
   "execution_count": 64,
   "id": "47ad99cb",
   "metadata": {},
   "outputs": [
    {
     "data": {
      "text/html": [
       "<div>\n",
       "<style scoped>\n",
       "    .dataframe tbody tr th:only-of-type {\n",
       "        vertical-align: middle;\n",
       "    }\n",
       "\n",
       "    .dataframe tbody tr th {\n",
       "        vertical-align: top;\n",
       "    }\n",
       "\n",
       "    .dataframe thead th {\n",
       "        text-align: right;\n",
       "    }\n",
       "</style>\n",
       "<table border=\"1\" class=\"dataframe\">\n",
       "  <thead>\n",
       "    <tr style=\"text-align: right;\">\n",
       "      <th></th>\n",
       "      <th>count</th>\n",
       "      <th>mean</th>\n",
       "      <th>std</th>\n",
       "      <th>min</th>\n",
       "      <th>25%</th>\n",
       "      <th>50%</th>\n",
       "      <th>75%</th>\n",
       "      <th>max</th>\n",
       "    </tr>\n",
       "    <tr>\n",
       "      <th>host_is_superhost</th>\n",
       "      <th></th>\n",
       "      <th></th>\n",
       "      <th></th>\n",
       "      <th></th>\n",
       "      <th></th>\n",
       "      <th></th>\n",
       "      <th></th>\n",
       "      <th></th>\n",
       "    </tr>\n",
       "  </thead>\n",
       "  <tbody>\n",
       "    <tr>\n",
       "      <th>0.0</th>\n",
       "      <td>3038.0</td>\n",
       "      <td>127.391376</td>\n",
       "      <td>90.940554</td>\n",
       "      <td>20.0</td>\n",
       "      <td>74.00</td>\n",
       "      <td>100.0</td>\n",
       "      <td>150.0</td>\n",
       "      <td>1000.0</td>\n",
       "    </tr>\n",
       "    <tr>\n",
       "      <th>1.0</th>\n",
       "      <td>778.0</td>\n",
       "      <td>130.140103</td>\n",
       "      <td>87.528320</td>\n",
       "      <td>30.0</td>\n",
       "      <td>79.25</td>\n",
       "      <td>103.0</td>\n",
       "      <td>150.0</td>\n",
       "      <td>750.0</td>\n",
       "    </tr>\n",
       "  </tbody>\n",
       "</table>\n",
       "</div>"
      ],
      "text/plain": [
       "                    count        mean        std   min    25%    50%    75%  \\\n",
       "host_is_superhost                                                             \n",
       "0.0                3038.0  127.391376  90.940554  20.0  74.00  100.0  150.0   \n",
       "1.0                 778.0  130.140103  87.528320  30.0  79.25  103.0  150.0   \n",
       "\n",
       "                      max  \n",
       "host_is_superhost          \n",
       "0.0                1000.0  \n",
       "1.0                 750.0  "
      ]
     },
     "execution_count": 64,
     "metadata": {},
     "output_type": "execute_result"
    }
   ],
   "source": [
    "listings.groupby('host_is_superhost')['price'].describe()"
   ]
  },
  {
   "cell_type": "markdown",
   "id": "9d4857ca",
   "metadata": {},
   "source": [
    "## Question 4: What factors contribute the most to price?"
   ]
  },
  {
   "cell_type": "markdown",
   "id": "52421fed",
   "metadata": {},
   "source": [
    "I decided to create new columns from the items in the amenities field"
   ]
  },
  {
   "cell_type": "code",
   "execution_count": 65,
   "id": "f20c9338",
   "metadata": {},
   "outputs": [],
   "source": [
    "listings['amenities'] = listings['amenities'].apply(lambda x: x.replace('{','').replace('}','').replace('\"','').split(','))\n",
    "amenities_list = list(set(listings['amenities'].explode()))\n",
    "amenities_list.remove('')\n",
    "for a in amenities_list:\n",
    "    if a!='':\n",
    "        listings[a] = 0"
   ]
  },
  {
   "cell_type": "code",
   "execution_count": 66,
   "id": "c1b8cc82",
   "metadata": {},
   "outputs": [],
   "source": [
    "for i, j in listings.iterrows():\n",
    "    for a in j['amenities']:\n",
    "        if a!='':\n",
    "            listings.at[i,a] = 1"
   ]
  },
  {
   "cell_type": "markdown",
   "id": "e88eb197",
   "metadata": {},
   "source": [
    "Additionally, I tokenized the description field and counted the tokens"
   ]
  },
  {
   "cell_type": "code",
   "execution_count": 67,
   "id": "0453409f",
   "metadata": {},
   "outputs": [],
   "source": [
    "def tokenize(text):\n",
    "    tokens = word_tokenize(text)\n",
    "    lemmatizer = WordNetLemmatizer()\n",
    "    clean_tokens = []\n",
    "    for tok in tokens:\n",
    "        clean_tok = lemmatizer.lemmatize(tok).lower().strip()\n",
    "        clean_tokens.append(clean_tok)\n",
    "    return clean_tokens"
   ]
  },
  {
   "cell_type": "code",
   "execution_count": 68,
   "id": "e3ea8333",
   "metadata": {},
   "outputs": [],
   "source": [
    "listings['tokens'] = listings['description'].apply(lambda x: tokenize(x))\n",
    "listings['token_count'] = listings['tokens'].apply(lambda x: len(x))"
   ]
  },
  {
   "cell_type": "code",
   "execution_count": 69,
   "id": "c073deaf",
   "metadata": {},
   "outputs": [],
   "source": [
    "listings.reviews_per_month.fillna(0, inplace=True)\n",
    "listings.number_of_reviews.fillna(0, inplace=True)"
   ]
  },
  {
   "cell_type": "markdown",
   "id": "b818ef0c",
   "metadata": {},
   "source": [
    "For a first try, these are the columns I chose to build a model"
   ]
  },
  {
   "cell_type": "code",
   "execution_count": 70,
   "id": "286581b4",
   "metadata": {},
   "outputs": [
    {
     "data": {
      "text/plain": [
       "['price',\n",
       " 'price_per',\n",
       " 'token_count',\n",
       " 'number_of_reviews',\n",
       " 'host_is_superhost',\n",
       " 'beds',\n",
       " 'bathrooms',\n",
       " 'accommodates',\n",
       " 'room_type',\n",
       " 'Family/Kid Friendly',\n",
       " 'Safety Card',\n",
       " 'Dog(s)',\n",
       " '24-Hour Check-in',\n",
       " 'Pets Allowed',\n",
       " 'TV',\n",
       " 'Carbon Monoxide Detector',\n",
       " 'Buzzer/Wireless Intercom',\n",
       " 'Hot Tub',\n",
       " 'Wireless Internet',\n",
       " 'Suitable for Events',\n",
       " 'Iron',\n",
       " 'Lock on Bedroom Door',\n",
       " 'Smoking Allowed',\n",
       " 'Pool',\n",
       " 'Cable TV',\n",
       " 'Breakfast',\n",
       " 'Elevator in Building',\n",
       " 'Internet',\n",
       " 'Wheelchair Accessible',\n",
       " 'Gym',\n",
       " 'Washer',\n",
       " 'Indoor Fireplace',\n",
       " 'Shampoo',\n",
       " 'Laptop Friendly Workspace',\n",
       " 'Washer / Dryer',\n",
       " 'Pets live on this property',\n",
       " 'Fire Extinguisher',\n",
       " 'Kitchen',\n",
       " 'Smoke Detector',\n",
       " 'First Aid Kit',\n",
       " 'Hangers',\n",
       " 'Other pet(s)',\n",
       " 'Essentials',\n",
       " 'Heating',\n",
       " 'Free Parking on Premises',\n",
       " 'Doorman',\n",
       " 'Air Conditioning',\n",
       " 'Dryer',\n",
       " 'Cat(s)',\n",
       " 'Hair Dryer']"
      ]
     },
     "execution_count": 70,
     "metadata": {},
     "output_type": "execute_result"
    }
   ],
   "source": [
    "cols = ['price', 'price_per', 'token_count', 'number_of_reviews', 'host_is_superhost', 'beds', 'bathrooms', 'accommodates', 'room_type']+amenities_list\n",
    "cols"
   ]
  },
  {
   "cell_type": "code",
   "execution_count": 71,
   "id": "bac2fe0b",
   "metadata": {},
   "outputs": [
    {
     "data": {
      "text/html": [
       "<div>\n",
       "<style scoped>\n",
       "    .dataframe tbody tr th:only-of-type {\n",
       "        vertical-align: middle;\n",
       "    }\n",
       "\n",
       "    .dataframe tbody tr th {\n",
       "        vertical-align: top;\n",
       "    }\n",
       "\n",
       "    .dataframe thead th {\n",
       "        text-align: right;\n",
       "    }\n",
       "</style>\n",
       "<table border=\"1\" class=\"dataframe\">\n",
       "  <thead>\n",
       "    <tr style=\"text-align: right;\">\n",
       "      <th></th>\n",
       "      <th>price</th>\n",
       "      <th>price_per</th>\n",
       "      <th>token_count</th>\n",
       "      <th>number_of_reviews</th>\n",
       "      <th>host_is_superhost</th>\n",
       "      <th>beds</th>\n",
       "      <th>bathrooms</th>\n",
       "      <th>accommodates</th>\n",
       "      <th>room_type</th>\n",
       "      <th>Family/Kid Friendly</th>\n",
       "      <th>Safety Card</th>\n",
       "      <th>Dog(s)</th>\n",
       "      <th>24-Hour Check-in</th>\n",
       "      <th>Pets Allowed</th>\n",
       "      <th>TV</th>\n",
       "      <th>Carbon Monoxide Detector</th>\n",
       "      <th>Buzzer/Wireless Intercom</th>\n",
       "      <th>Hot Tub</th>\n",
       "      <th>Wireless Internet</th>\n",
       "      <th>Suitable for Events</th>\n",
       "      <th>Iron</th>\n",
       "      <th>Lock on Bedroom Door</th>\n",
       "      <th>Smoking Allowed</th>\n",
       "      <th>Pool</th>\n",
       "      <th>Cable TV</th>\n",
       "      <th>Breakfast</th>\n",
       "      <th>Elevator in Building</th>\n",
       "      <th>Internet</th>\n",
       "      <th>Wheelchair Accessible</th>\n",
       "      <th>Gym</th>\n",
       "      <th>Washer</th>\n",
       "      <th>Indoor Fireplace</th>\n",
       "      <th>Shampoo</th>\n",
       "      <th>Laptop Friendly Workspace</th>\n",
       "      <th>Washer / Dryer</th>\n",
       "      <th>Pets live on this property</th>\n",
       "      <th>Fire Extinguisher</th>\n",
       "      <th>Kitchen</th>\n",
       "      <th>Smoke Detector</th>\n",
       "      <th>First Aid Kit</th>\n",
       "      <th>Hangers</th>\n",
       "      <th>Other pet(s)</th>\n",
       "      <th>Essentials</th>\n",
       "      <th>Heating</th>\n",
       "      <th>Free Parking on Premises</th>\n",
       "      <th>Doorman</th>\n",
       "      <th>Air Conditioning</th>\n",
       "      <th>Dryer</th>\n",
       "      <th>Cat(s)</th>\n",
       "      <th>Hair Dryer</th>\n",
       "    </tr>\n",
       "  </thead>\n",
       "  <tbody>\n",
       "    <tr>\n",
       "      <th>0</th>\n",
       "      <td>85.0</td>\n",
       "      <td>21.250000</td>\n",
       "      <td>198</td>\n",
       "      <td>207</td>\n",
       "      <td>0.0</td>\n",
       "      <td>1.0</td>\n",
       "      <td>1.0</td>\n",
       "      <td>4</td>\n",
       "      <td>Entire home/apt</td>\n",
       "      <td>1</td>\n",
       "      <td>0</td>\n",
       "      <td>0</td>\n",
       "      <td>0</td>\n",
       "      <td>0</td>\n",
       "      <td>1</td>\n",
       "      <td>0</td>\n",
       "      <td>0</td>\n",
       "      <td>0</td>\n",
       "      <td>1</td>\n",
       "      <td>0</td>\n",
       "      <td>0</td>\n",
       "      <td>0</td>\n",
       "      <td>0</td>\n",
       "      <td>0</td>\n",
       "      <td>1</td>\n",
       "      <td>0</td>\n",
       "      <td>0</td>\n",
       "      <td>1</td>\n",
       "      <td>0</td>\n",
       "      <td>0</td>\n",
       "      <td>1</td>\n",
       "      <td>0</td>\n",
       "      <td>0</td>\n",
       "      <td>0</td>\n",
       "      <td>0</td>\n",
       "      <td>0</td>\n",
       "      <td>0</td>\n",
       "      <td>1</td>\n",
       "      <td>0</td>\n",
       "      <td>0</td>\n",
       "      <td>0</td>\n",
       "      <td>0</td>\n",
       "      <td>0</td>\n",
       "      <td>1</td>\n",
       "      <td>0</td>\n",
       "      <td>0</td>\n",
       "      <td>1</td>\n",
       "      <td>1</td>\n",
       "      <td>0</td>\n",
       "      <td>0</td>\n",
       "    </tr>\n",
       "    <tr>\n",
       "      <th>1</th>\n",
       "      <td>150.0</td>\n",
       "      <td>37.500000</td>\n",
       "      <td>182</td>\n",
       "      <td>43</td>\n",
       "      <td>1.0</td>\n",
       "      <td>1.0</td>\n",
       "      <td>1.0</td>\n",
       "      <td>4</td>\n",
       "      <td>Entire home/apt</td>\n",
       "      <td>1</td>\n",
       "      <td>1</td>\n",
       "      <td>0</td>\n",
       "      <td>0</td>\n",
       "      <td>0</td>\n",
       "      <td>1</td>\n",
       "      <td>1</td>\n",
       "      <td>1</td>\n",
       "      <td>0</td>\n",
       "      <td>1</td>\n",
       "      <td>0</td>\n",
       "      <td>0</td>\n",
       "      <td>0</td>\n",
       "      <td>0</td>\n",
       "      <td>0</td>\n",
       "      <td>0</td>\n",
       "      <td>0</td>\n",
       "      <td>0</td>\n",
       "      <td>1</td>\n",
       "      <td>0</td>\n",
       "      <td>0</td>\n",
       "      <td>1</td>\n",
       "      <td>0</td>\n",
       "      <td>0</td>\n",
       "      <td>0</td>\n",
       "      <td>0</td>\n",
       "      <td>0</td>\n",
       "      <td>1</td>\n",
       "      <td>1</td>\n",
       "      <td>1</td>\n",
       "      <td>1</td>\n",
       "      <td>0</td>\n",
       "      <td>0</td>\n",
       "      <td>1</td>\n",
       "      <td>1</td>\n",
       "      <td>1</td>\n",
       "      <td>0</td>\n",
       "      <td>0</td>\n",
       "      <td>1</td>\n",
       "      <td>0</td>\n",
       "      <td>0</td>\n",
       "    </tr>\n",
       "    <tr>\n",
       "      <th>2</th>\n",
       "      <td>975.0</td>\n",
       "      <td>88.636364</td>\n",
       "      <td>197</td>\n",
       "      <td>20</td>\n",
       "      <td>0.0</td>\n",
       "      <td>7.0</td>\n",
       "      <td>4.5</td>\n",
       "      <td>11</td>\n",
       "      <td>Entire home/apt</td>\n",
       "      <td>1</td>\n",
       "      <td>0</td>\n",
       "      <td>1</td>\n",
       "      <td>0</td>\n",
       "      <td>1</td>\n",
       "      <td>1</td>\n",
       "      <td>1</td>\n",
       "      <td>0</td>\n",
       "      <td>1</td>\n",
       "      <td>1</td>\n",
       "      <td>0</td>\n",
       "      <td>0</td>\n",
       "      <td>0</td>\n",
       "      <td>0</td>\n",
       "      <td>0</td>\n",
       "      <td>1</td>\n",
       "      <td>0</td>\n",
       "      <td>0</td>\n",
       "      <td>1</td>\n",
       "      <td>0</td>\n",
       "      <td>0</td>\n",
       "      <td>1</td>\n",
       "      <td>1</td>\n",
       "      <td>1</td>\n",
       "      <td>0</td>\n",
       "      <td>0</td>\n",
       "      <td>1</td>\n",
       "      <td>0</td>\n",
       "      <td>1</td>\n",
       "      <td>1</td>\n",
       "      <td>0</td>\n",
       "      <td>0</td>\n",
       "      <td>0</td>\n",
       "      <td>1</td>\n",
       "      <td>1</td>\n",
       "      <td>1</td>\n",
       "      <td>0</td>\n",
       "      <td>1</td>\n",
       "      <td>1</td>\n",
       "      <td>1</td>\n",
       "      <td>0</td>\n",
       "    </tr>\n",
       "    <tr>\n",
       "      <th>3</th>\n",
       "      <td>100.0</td>\n",
       "      <td>33.333333</td>\n",
       "      <td>45</td>\n",
       "      <td>0</td>\n",
       "      <td>0.0</td>\n",
       "      <td>2.0</td>\n",
       "      <td>1.0</td>\n",
       "      <td>3</td>\n",
       "      <td>Entire home/apt</td>\n",
       "      <td>1</td>\n",
       "      <td>1</td>\n",
       "      <td>0</td>\n",
       "      <td>0</td>\n",
       "      <td>0</td>\n",
       "      <td>0</td>\n",
       "      <td>1</td>\n",
       "      <td>0</td>\n",
       "      <td>0</td>\n",
       "      <td>1</td>\n",
       "      <td>0</td>\n",
       "      <td>0</td>\n",
       "      <td>0</td>\n",
       "      <td>0</td>\n",
       "      <td>0</td>\n",
       "      <td>0</td>\n",
       "      <td>0</td>\n",
       "      <td>0</td>\n",
       "      <td>1</td>\n",
       "      <td>0</td>\n",
       "      <td>0</td>\n",
       "      <td>1</td>\n",
       "      <td>1</td>\n",
       "      <td>1</td>\n",
       "      <td>0</td>\n",
       "      <td>0</td>\n",
       "      <td>0</td>\n",
       "      <td>1</td>\n",
       "      <td>1</td>\n",
       "      <td>1</td>\n",
       "      <td>0</td>\n",
       "      <td>0</td>\n",
       "      <td>0</td>\n",
       "      <td>1</td>\n",
       "      <td>1</td>\n",
       "      <td>0</td>\n",
       "      <td>0</td>\n",
       "      <td>0</td>\n",
       "      <td>1</td>\n",
       "      <td>0</td>\n",
       "      <td>0</td>\n",
       "    </tr>\n",
       "    <tr>\n",
       "      <th>4</th>\n",
       "      <td>450.0</td>\n",
       "      <td>75.000000</td>\n",
       "      <td>209</td>\n",
       "      <td>38</td>\n",
       "      <td>0.0</td>\n",
       "      <td>3.0</td>\n",
       "      <td>2.0</td>\n",
       "      <td>6</td>\n",
       "      <td>Entire home/apt</td>\n",
       "      <td>1</td>\n",
       "      <td>0</td>\n",
       "      <td>0</td>\n",
       "      <td>0</td>\n",
       "      <td>0</td>\n",
       "      <td>1</td>\n",
       "      <td>1</td>\n",
       "      <td>0</td>\n",
       "      <td>0</td>\n",
       "      <td>1</td>\n",
       "      <td>0</td>\n",
       "      <td>0</td>\n",
       "      <td>0</td>\n",
       "      <td>0</td>\n",
       "      <td>0</td>\n",
       "      <td>1</td>\n",
       "      <td>0</td>\n",
       "      <td>0</td>\n",
       "      <td>1</td>\n",
       "      <td>0</td>\n",
       "      <td>0</td>\n",
       "      <td>0</td>\n",
       "      <td>0</td>\n",
       "      <td>1</td>\n",
       "      <td>0</td>\n",
       "      <td>0</td>\n",
       "      <td>0</td>\n",
       "      <td>1</td>\n",
       "      <td>1</td>\n",
       "      <td>1</td>\n",
       "      <td>1</td>\n",
       "      <td>0</td>\n",
       "      <td>0</td>\n",
       "      <td>1</td>\n",
       "      <td>1</td>\n",
       "      <td>0</td>\n",
       "      <td>0</td>\n",
       "      <td>0</td>\n",
       "      <td>0</td>\n",
       "      <td>0</td>\n",
       "      <td>0</td>\n",
       "    </tr>\n",
       "    <tr>\n",
       "      <th>...</th>\n",
       "      <td>...</td>\n",
       "      <td>...</td>\n",
       "      <td>...</td>\n",
       "      <td>...</td>\n",
       "      <td>...</td>\n",
       "      <td>...</td>\n",
       "      <td>...</td>\n",
       "      <td>...</td>\n",
       "      <td>...</td>\n",
       "      <td>...</td>\n",
       "      <td>...</td>\n",
       "      <td>...</td>\n",
       "      <td>...</td>\n",
       "      <td>...</td>\n",
       "      <td>...</td>\n",
       "      <td>...</td>\n",
       "      <td>...</td>\n",
       "      <td>...</td>\n",
       "      <td>...</td>\n",
       "      <td>...</td>\n",
       "      <td>...</td>\n",
       "      <td>...</td>\n",
       "      <td>...</td>\n",
       "      <td>...</td>\n",
       "      <td>...</td>\n",
       "      <td>...</td>\n",
       "      <td>...</td>\n",
       "      <td>...</td>\n",
       "      <td>...</td>\n",
       "      <td>...</td>\n",
       "      <td>...</td>\n",
       "      <td>...</td>\n",
       "      <td>...</td>\n",
       "      <td>...</td>\n",
       "      <td>...</td>\n",
       "      <td>...</td>\n",
       "      <td>...</td>\n",
       "      <td>...</td>\n",
       "      <td>...</td>\n",
       "      <td>...</td>\n",
       "      <td>...</td>\n",
       "      <td>...</td>\n",
       "      <td>...</td>\n",
       "      <td>...</td>\n",
       "      <td>...</td>\n",
       "      <td>...</td>\n",
       "      <td>...</td>\n",
       "      <td>...</td>\n",
       "      <td>...</td>\n",
       "      <td>...</td>\n",
       "    </tr>\n",
       "    <tr>\n",
       "      <th>3813</th>\n",
       "      <td>359.0</td>\n",
       "      <td>59.833333</td>\n",
       "      <td>186</td>\n",
       "      <td>1</td>\n",
       "      <td>0.0</td>\n",
       "      <td>3.0</td>\n",
       "      <td>2.0</td>\n",
       "      <td>6</td>\n",
       "      <td>Entire home/apt</td>\n",
       "      <td>1</td>\n",
       "      <td>0</td>\n",
       "      <td>0</td>\n",
       "      <td>0</td>\n",
       "      <td>0</td>\n",
       "      <td>1</td>\n",
       "      <td>0</td>\n",
       "      <td>0</td>\n",
       "      <td>0</td>\n",
       "      <td>1</td>\n",
       "      <td>0</td>\n",
       "      <td>0</td>\n",
       "      <td>0</td>\n",
       "      <td>0</td>\n",
       "      <td>0</td>\n",
       "      <td>1</td>\n",
       "      <td>0</td>\n",
       "      <td>0</td>\n",
       "      <td>1</td>\n",
       "      <td>1</td>\n",
       "      <td>0</td>\n",
       "      <td>1</td>\n",
       "      <td>0</td>\n",
       "      <td>1</td>\n",
       "      <td>0</td>\n",
       "      <td>0</td>\n",
       "      <td>0</td>\n",
       "      <td>1</td>\n",
       "      <td>1</td>\n",
       "      <td>1</td>\n",
       "      <td>0</td>\n",
       "      <td>0</td>\n",
       "      <td>0</td>\n",
       "      <td>1</td>\n",
       "      <td>1</td>\n",
       "      <td>1</td>\n",
       "      <td>0</td>\n",
       "      <td>1</td>\n",
       "      <td>1</td>\n",
       "      <td>0</td>\n",
       "      <td>0</td>\n",
       "    </tr>\n",
       "    <tr>\n",
       "      <th>3814</th>\n",
       "      <td>79.0</td>\n",
       "      <td>19.750000</td>\n",
       "      <td>202</td>\n",
       "      <td>2</td>\n",
       "      <td>0.0</td>\n",
       "      <td>2.0</td>\n",
       "      <td>1.0</td>\n",
       "      <td>4</td>\n",
       "      <td>Entire home/apt</td>\n",
       "      <td>1</td>\n",
       "      <td>0</td>\n",
       "      <td>0</td>\n",
       "      <td>1</td>\n",
       "      <td>0</td>\n",
       "      <td>1</td>\n",
       "      <td>0</td>\n",
       "      <td>0</td>\n",
       "      <td>0</td>\n",
       "      <td>1</td>\n",
       "      <td>0</td>\n",
       "      <td>1</td>\n",
       "      <td>0</td>\n",
       "      <td>0</td>\n",
       "      <td>0</td>\n",
       "      <td>1</td>\n",
       "      <td>0</td>\n",
       "      <td>0</td>\n",
       "      <td>1</td>\n",
       "      <td>0</td>\n",
       "      <td>0</td>\n",
       "      <td>0</td>\n",
       "      <td>0</td>\n",
       "      <td>1</td>\n",
       "      <td>1</td>\n",
       "      <td>0</td>\n",
       "      <td>0</td>\n",
       "      <td>1</td>\n",
       "      <td>1</td>\n",
       "      <td>1</td>\n",
       "      <td>0</td>\n",
       "      <td>1</td>\n",
       "      <td>0</td>\n",
       "      <td>1</td>\n",
       "      <td>1</td>\n",
       "      <td>1</td>\n",
       "      <td>0</td>\n",
       "      <td>0</td>\n",
       "      <td>0</td>\n",
       "      <td>0</td>\n",
       "      <td>1</td>\n",
       "    </tr>\n",
       "    <tr>\n",
       "      <th>3815</th>\n",
       "      <td>93.0</td>\n",
       "      <td>46.500000</td>\n",
       "      <td>27</td>\n",
       "      <td>0</td>\n",
       "      <td>0.0</td>\n",
       "      <td>1.0</td>\n",
       "      <td>1.0</td>\n",
       "      <td>2</td>\n",
       "      <td>Entire home/apt</td>\n",
       "      <td>0</td>\n",
       "      <td>1</td>\n",
       "      <td>1</td>\n",
       "      <td>0</td>\n",
       "      <td>0</td>\n",
       "      <td>0</td>\n",
       "      <td>0</td>\n",
       "      <td>0</td>\n",
       "      <td>0</td>\n",
       "      <td>1</td>\n",
       "      <td>0</td>\n",
       "      <td>1</td>\n",
       "      <td>0</td>\n",
       "      <td>0</td>\n",
       "      <td>0</td>\n",
       "      <td>1</td>\n",
       "      <td>1</td>\n",
       "      <td>0</td>\n",
       "      <td>0</td>\n",
       "      <td>0</td>\n",
       "      <td>0</td>\n",
       "      <td>1</td>\n",
       "      <td>0</td>\n",
       "      <td>0</td>\n",
       "      <td>1</td>\n",
       "      <td>0</td>\n",
       "      <td>1</td>\n",
       "      <td>1</td>\n",
       "      <td>1</td>\n",
       "      <td>1</td>\n",
       "      <td>1</td>\n",
       "      <td>1</td>\n",
       "      <td>0</td>\n",
       "      <td>1</td>\n",
       "      <td>1</td>\n",
       "      <td>1</td>\n",
       "      <td>0</td>\n",
       "      <td>0</td>\n",
       "      <td>1</td>\n",
       "      <td>1</td>\n",
       "      <td>1</td>\n",
       "    </tr>\n",
       "    <tr>\n",
       "      <th>3816</th>\n",
       "      <td>99.0</td>\n",
       "      <td>49.500000</td>\n",
       "      <td>195</td>\n",
       "      <td>0</td>\n",
       "      <td>0.0</td>\n",
       "      <td>1.0</td>\n",
       "      <td>1.0</td>\n",
       "      <td>2</td>\n",
       "      <td>Entire home/apt</td>\n",
       "      <td>0</td>\n",
       "      <td>0</td>\n",
       "      <td>0</td>\n",
       "      <td>0</td>\n",
       "      <td>0</td>\n",
       "      <td>1</td>\n",
       "      <td>0</td>\n",
       "      <td>0</td>\n",
       "      <td>0</td>\n",
       "      <td>1</td>\n",
       "      <td>0</td>\n",
       "      <td>0</td>\n",
       "      <td>0</td>\n",
       "      <td>0</td>\n",
       "      <td>0</td>\n",
       "      <td>0</td>\n",
       "      <td>0</td>\n",
       "      <td>1</td>\n",
       "      <td>0</td>\n",
       "      <td>0</td>\n",
       "      <td>0</td>\n",
       "      <td>0</td>\n",
       "      <td>0</td>\n",
       "      <td>0</td>\n",
       "      <td>1</td>\n",
       "      <td>0</td>\n",
       "      <td>0</td>\n",
       "      <td>0</td>\n",
       "      <td>1</td>\n",
       "      <td>1</td>\n",
       "      <td>0</td>\n",
       "      <td>1</td>\n",
       "      <td>0</td>\n",
       "      <td>1</td>\n",
       "      <td>1</td>\n",
       "      <td>1</td>\n",
       "      <td>0</td>\n",
       "      <td>0</td>\n",
       "      <td>0</td>\n",
       "      <td>0</td>\n",
       "      <td>1</td>\n",
       "    </tr>\n",
       "    <tr>\n",
       "      <th>3817</th>\n",
       "      <td>87.0</td>\n",
       "      <td>29.000000</td>\n",
       "      <td>71</td>\n",
       "      <td>0</td>\n",
       "      <td>0.0</td>\n",
       "      <td>1.0</td>\n",
       "      <td>1.5</td>\n",
       "      <td>3</td>\n",
       "      <td>Entire home/apt</td>\n",
       "      <td>1</td>\n",
       "      <td>0</td>\n",
       "      <td>1</td>\n",
       "      <td>0</td>\n",
       "      <td>0</td>\n",
       "      <td>1</td>\n",
       "      <td>0</td>\n",
       "      <td>1</td>\n",
       "      <td>1</td>\n",
       "      <td>1</td>\n",
       "      <td>0</td>\n",
       "      <td>1</td>\n",
       "      <td>0</td>\n",
       "      <td>0</td>\n",
       "      <td>0</td>\n",
       "      <td>1</td>\n",
       "      <td>0</td>\n",
       "      <td>1</td>\n",
       "      <td>1</td>\n",
       "      <td>0</td>\n",
       "      <td>0</td>\n",
       "      <td>1</td>\n",
       "      <td>1</td>\n",
       "      <td>1</td>\n",
       "      <td>1</td>\n",
       "      <td>0</td>\n",
       "      <td>1</td>\n",
       "      <td>0</td>\n",
       "      <td>1</td>\n",
       "      <td>1</td>\n",
       "      <td>0</td>\n",
       "      <td>1</td>\n",
       "      <td>0</td>\n",
       "      <td>1</td>\n",
       "      <td>1</td>\n",
       "      <td>1</td>\n",
       "      <td>0</td>\n",
       "      <td>0</td>\n",
       "      <td>1</td>\n",
       "      <td>0</td>\n",
       "      <td>0</td>\n",
       "    </tr>\n",
       "  </tbody>\n",
       "</table>\n",
       "<p>3818 rows × 50 columns</p>\n",
       "</div>"
      ],
      "text/plain": [
       "      price  price_per  token_count  number_of_reviews  host_is_superhost  \\\n",
       "0      85.0  21.250000          198                207                0.0   \n",
       "1     150.0  37.500000          182                 43                1.0   \n",
       "2     975.0  88.636364          197                 20                0.0   \n",
       "3     100.0  33.333333           45                  0                0.0   \n",
       "4     450.0  75.000000          209                 38                0.0   \n",
       "...     ...        ...          ...                ...                ...   \n",
       "3813  359.0  59.833333          186                  1                0.0   \n",
       "3814   79.0  19.750000          202                  2                0.0   \n",
       "3815   93.0  46.500000           27                  0                0.0   \n",
       "3816   99.0  49.500000          195                  0                0.0   \n",
       "3817   87.0  29.000000           71                  0                0.0   \n",
       "\n",
       "      beds  bathrooms  accommodates        room_type  Family/Kid Friendly  \\\n",
       "0      1.0        1.0             4  Entire home/apt                    1   \n",
       "1      1.0        1.0             4  Entire home/apt                    1   \n",
       "2      7.0        4.5            11  Entire home/apt                    1   \n",
       "3      2.0        1.0             3  Entire home/apt                    1   \n",
       "4      3.0        2.0             6  Entire home/apt                    1   \n",
       "...    ...        ...           ...              ...                  ...   \n",
       "3813   3.0        2.0             6  Entire home/apt                    1   \n",
       "3814   2.0        1.0             4  Entire home/apt                    1   \n",
       "3815   1.0        1.0             2  Entire home/apt                    0   \n",
       "3816   1.0        1.0             2  Entire home/apt                    0   \n",
       "3817   1.0        1.5             3  Entire home/apt                    1   \n",
       "\n",
       "      Safety Card  Dog(s)  24-Hour Check-in  Pets Allowed  TV  \\\n",
       "0               0       0                 0             0   1   \n",
       "1               1       0                 0             0   1   \n",
       "2               0       1                 0             1   1   \n",
       "3               1       0                 0             0   0   \n",
       "4               0       0                 0             0   1   \n",
       "...           ...     ...               ...           ...  ..   \n",
       "3813            0       0                 0             0   1   \n",
       "3814            0       0                 1             0   1   \n",
       "3815            1       1                 0             0   0   \n",
       "3816            0       0                 0             0   1   \n",
       "3817            0       1                 0             0   1   \n",
       "\n",
       "      Carbon Monoxide Detector  Buzzer/Wireless Intercom  Hot Tub  \\\n",
       "0                            0                         0        0   \n",
       "1                            1                         1        0   \n",
       "2                            1                         0        1   \n",
       "3                            1                         0        0   \n",
       "4                            1                         0        0   \n",
       "...                        ...                       ...      ...   \n",
       "3813                         0                         0        0   \n",
       "3814                         0                         0        0   \n",
       "3815                         0                         0        0   \n",
       "3816                         0                         0        0   \n",
       "3817                         0                         1        1   \n",
       "\n",
       "      Wireless Internet  Suitable for Events  Iron  Lock on Bedroom Door  \\\n",
       "0                     1                    0     0                     0   \n",
       "1                     1                    0     0                     0   \n",
       "2                     1                    0     0                     0   \n",
       "3                     1                    0     0                     0   \n",
       "4                     1                    0     0                     0   \n",
       "...                 ...                  ...   ...                   ...   \n",
       "3813                  1                    0     0                     0   \n",
       "3814                  1                    0     1                     0   \n",
       "3815                  1                    0     1                     0   \n",
       "3816                  1                    0     0                     0   \n",
       "3817                  1                    0     1                     0   \n",
       "\n",
       "      Smoking Allowed  Pool  Cable TV  Breakfast  Elevator in Building  \\\n",
       "0                   0     0         1          0                     0   \n",
       "1                   0     0         0          0                     0   \n",
       "2                   0     0         1          0                     0   \n",
       "3                   0     0         0          0                     0   \n",
       "4                   0     0         1          0                     0   \n",
       "...               ...   ...       ...        ...                   ...   \n",
       "3813                0     0         1          0                     0   \n",
       "3814                0     0         1          0                     0   \n",
       "3815                0     0         1          1                     0   \n",
       "3816                0     0         0          0                     1   \n",
       "3817                0     0         1          0                     1   \n",
       "\n",
       "      Internet  Wheelchair Accessible  Gym  Washer  Indoor Fireplace  Shampoo  \\\n",
       "0            1                      0    0       1                 0        0   \n",
       "1            1                      0    0       1                 0        0   \n",
       "2            1                      0    0       1                 1        1   \n",
       "3            1                      0    0       1                 1        1   \n",
       "4            1                      0    0       0                 0        1   \n",
       "...        ...                    ...  ...     ...               ...      ...   \n",
       "3813         1                      1    0       1                 0        1   \n",
       "3814         1                      0    0       0                 0        1   \n",
       "3815         0                      0    0       1                 0        0   \n",
       "3816         0                      0    0       0                 0        0   \n",
       "3817         1                      0    0       1                 1        1   \n",
       "\n",
       "      Laptop Friendly Workspace  Washer / Dryer  Pets live on this property  \\\n",
       "0                             0               0                           0   \n",
       "1                             0               0                           0   \n",
       "2                             0               0                           1   \n",
       "3                             0               0                           0   \n",
       "4                             0               0                           0   \n",
       "...                         ...             ...                         ...   \n",
       "3813                          0               0                           0   \n",
       "3814                          1               0                           0   \n",
       "3815                          1               0                           1   \n",
       "3816                          1               0                           0   \n",
       "3817                          1               0                           1   \n",
       "\n",
       "      Fire Extinguisher  Kitchen  Smoke Detector  First Aid Kit  Hangers  \\\n",
       "0                     0        1               0              0        0   \n",
       "1                     1        1               1              1        0   \n",
       "2                     0        1               1              0        0   \n",
       "3                     1        1               1              0        0   \n",
       "4                     1        1               1              1        0   \n",
       "...                 ...      ...             ...            ...      ...   \n",
       "3813                  1        1               1              0        0   \n",
       "3814                  1        1               1              0        1   \n",
       "3815                  1        1               1              1        1   \n",
       "3816                  0        1               1              0        1   \n",
       "3817                  0        1               1              0        1   \n",
       "\n",
       "      Other pet(s)  Essentials  Heating  Free Parking on Premises  Doorman  \\\n",
       "0                0           0        1                         0        0   \n",
       "1                0           1        1                         1        0   \n",
       "2                0           1        1                         1        0   \n",
       "3                0           1        1                         0        0   \n",
       "4                0           1        1                         0        0   \n",
       "...            ...         ...      ...                       ...      ...   \n",
       "3813             0           1        1                         1        0   \n",
       "3814             0           1        1                         1        0   \n",
       "3815             0           1        1                         1        0   \n",
       "3816             0           1        1                         1        0   \n",
       "3817             0           1        1                         1        0   \n",
       "\n",
       "      Air Conditioning  Dryer  Cat(s)  Hair Dryer  \n",
       "0                    1      1       0           0  \n",
       "1                    0      1       0           0  \n",
       "2                    1      1       1           0  \n",
       "3                    0      1       0           0  \n",
       "4                    0      0       0           0  \n",
       "...                ...    ...     ...         ...  \n",
       "3813                 1      1       0           0  \n",
       "3814                 0      0       0           1  \n",
       "3815                 0      1       1           1  \n",
       "3816                 0      0       0           1  \n",
       "3817                 0      1       0           0  \n",
       "\n",
       "[3818 rows x 50 columns]"
      ]
     },
     "execution_count": 71,
     "metadata": {},
     "output_type": "execute_result"
    }
   ],
   "source": [
    "model_df = listings[cols]\n",
    "model_df"
   ]
  },
  {
   "cell_type": "markdown",
   "id": "2a404c08",
   "metadata": {},
   "source": [
    "Drop NA Values"
   ]
  },
  {
   "cell_type": "code",
   "execution_count": 72,
   "id": "2f32c4cc",
   "metadata": {},
   "outputs": [
    {
     "name": "stdout",
     "output_type": "stream",
     "text": [
      "(3818, 50)\n",
      "(3800, 50)\n"
     ]
    }
   ],
   "source": [
    "print(model_df.shape)\n",
    "model_df = model_df.dropna()\n",
    "print(model_df.shape)"
   ]
  },
  {
   "cell_type": "markdown",
   "id": "fdf20bd6",
   "metadata": {},
   "source": [
    "Use a scaler for continuous data"
   ]
  },
  {
   "cell_type": "code",
   "execution_count": 73,
   "id": "90d1735b",
   "metadata": {},
   "outputs": [
    {
     "name": "stderr",
     "output_type": "stream",
     "text": [
      "C:\\ProgramData\\Anaconda3\\lib\\site-packages\\ipykernel_launcher.py:6: SettingWithCopyWarning: \n",
      "A value is trying to be set on a copy of a slice from a DataFrame.\n",
      "Try using .loc[row_indexer,col_indexer] = value instead\n",
      "\n",
      "See the caveats in the documentation: https://pandas.pydata.org/pandas-docs/stable/user_guide/indexing.html#returning-a-view-versus-a-copy\n",
      "  \n",
      "C:\\ProgramData\\Anaconda3\\lib\\site-packages\\ipykernel_launcher.py:6: SettingWithCopyWarning: \n",
      "A value is trying to be set on a copy of a slice from a DataFrame.\n",
      "Try using .loc[row_indexer,col_indexer] = value instead\n",
      "\n",
      "See the caveats in the documentation: https://pandas.pydata.org/pandas-docs/stable/user_guide/indexing.html#returning-a-view-versus-a-copy\n",
      "  \n",
      "C:\\ProgramData\\Anaconda3\\lib\\site-packages\\ipykernel_launcher.py:6: SettingWithCopyWarning: \n",
      "A value is trying to be set on a copy of a slice from a DataFrame.\n",
      "Try using .loc[row_indexer,col_indexer] = value instead\n",
      "\n",
      "See the caveats in the documentation: https://pandas.pydata.org/pandas-docs/stable/user_guide/indexing.html#returning-a-view-versus-a-copy\n",
      "  \n",
      "C:\\ProgramData\\Anaconda3\\lib\\site-packages\\ipykernel_launcher.py:6: SettingWithCopyWarning: \n",
      "A value is trying to be set on a copy of a slice from a DataFrame.\n",
      "Try using .loc[row_indexer,col_indexer] = value instead\n",
      "\n",
      "See the caveats in the documentation: https://pandas.pydata.org/pandas-docs/stable/user_guide/indexing.html#returning-a-view-versus-a-copy\n",
      "  \n",
      "C:\\ProgramData\\Anaconda3\\lib\\site-packages\\ipykernel_launcher.py:6: SettingWithCopyWarning: \n",
      "A value is trying to be set on a copy of a slice from a DataFrame.\n",
      "Try using .loc[row_indexer,col_indexer] = value instead\n",
      "\n",
      "See the caveats in the documentation: https://pandas.pydata.org/pandas-docs/stable/user_guide/indexing.html#returning-a-view-versus-a-copy\n",
      "  \n",
      "C:\\ProgramData\\Anaconda3\\lib\\site-packages\\ipykernel_launcher.py:6: SettingWithCopyWarning: \n",
      "A value is trying to be set on a copy of a slice from a DataFrame.\n",
      "Try using .loc[row_indexer,col_indexer] = value instead\n",
      "\n",
      "See the caveats in the documentation: https://pandas.pydata.org/pandas-docs/stable/user_guide/indexing.html#returning-a-view-versus-a-copy\n",
      "  \n"
     ]
    }
   ],
   "source": [
    "from sklearn.preprocessing import MinMaxScaler, StandardScaler\n",
    "min_max_scaler = MinMaxScaler()\n",
    "standard_scaler = StandardScaler()\n",
    "\n",
    "for i in ['token_count', 'number_of_reviews', 'host_is_superhost', 'accommodates', 'beds', 'bathrooms']:\n",
    "    model_df[i+'_scaled'] = standard_scaler.fit_transform(model_df[[i]])"
   ]
  },
  {
   "cell_type": "markdown",
   "id": "75797f16",
   "metadata": {},
   "source": [
    "Handle categorical variables with get_dummies"
   ]
  },
  {
   "cell_type": "code",
   "execution_count": 74,
   "id": "f7d7fb7e",
   "metadata": {},
   "outputs": [],
   "source": [
    "model_df = pd.get_dummies(model_df, columns=['room_type'])"
   ]
  },
  {
   "cell_type": "code",
   "execution_count": 75,
   "id": "be67cb52",
   "metadata": {},
   "outputs": [],
   "source": [
    "X_train, X_test, y_train, y_test = train_test_split(model_df.iloc[:,8:],model_df['price'],test_size=0.2, random_state=42)"
   ]
  },
  {
   "cell_type": "markdown",
   "id": "8b86690e",
   "metadata": {},
   "source": [
    "Fit a regression model"
   ]
  },
  {
   "cell_type": "code",
   "execution_count": 76,
   "id": "f3140f26",
   "metadata": {},
   "outputs": [
    {
     "name": "stdout",
     "output_type": "stream",
     "text": [
      "RMSE:  66.66361034488858\n",
      "R^2:  0.4617428057755897\n"
     ]
    }
   ],
   "source": [
    "from sklearn.metrics import mean_squared_error, r2_score\n",
    "reg = LinearRegression()\n",
    "reg.fit(X_train, y_train)\n",
    "reg_preds = reg.predict(X_test)\n",
    "print('RMSE: ',math.sqrt(mean_squared_error(y_test, reg_preds)))\n",
    "print('R^2: ',r2_score(y_test, reg_preds))"
   ]
  },
  {
   "cell_type": "markdown",
   "id": "53169282",
   "metadata": {},
   "source": [
    "See how the coefficients compare"
   ]
  },
  {
   "cell_type": "code",
   "execution_count": 77,
   "id": "1832398f",
   "metadata": {},
   "outputs": [
    {
     "data": {
      "image/png": "[encoded data removed]",
      "text/plain": [
       "<Figure size 432x288 with 1 Axes>"
      ]
     },
     "metadata": {
      "needs_background": "light"
     },
     "output_type": "display_data"
    }
   ],
   "source": [
    "coefficients = pd.DataFrame({'feature': X_train.columns, 'importance': reg.coef_})\n",
    "_ = coefficients.sort_values('importance', ascending=False)[:25].plot(x='feature', y='importance', kind='bar')"
   ]
  },
  {
   "cell_type": "code",
   "execution_count": 78,
   "id": "4fb9980a",
   "metadata": {},
   "outputs": [
    {
     "data": {
      "text/html": [
       "<div>\n",
       "<style scoped>\n",
       "    .dataframe tbody tr th:only-of-type {\n",
       "        vertical-align: middle;\n",
       "    }\n",
       "\n",
       "    .dataframe tbody tr th {\n",
       "        vertical-align: top;\n",
       "    }\n",
       "\n",
       "    .dataframe thead th {\n",
       "        text-align: right;\n",
       "    }\n",
       "</style>\n",
       "<table border=\"1\" class=\"dataframe\">\n",
       "  <thead>\n",
       "    <tr style=\"text-align: right;\">\n",
       "      <th></th>\n",
       "      <th>feature</th>\n",
       "      <th>importance</th>\n",
       "    </tr>\n",
       "  </thead>\n",
       "  <tbody>\n",
       "    <tr>\n",
       "      <th>36</th>\n",
       "      <td>Doorman</td>\n",
       "      <td>37.092464</td>\n",
       "    </tr>\n",
       "    <tr>\n",
       "      <th>47</th>\n",
       "      <td>room_type_Entire home/apt</td>\n",
       "      <td>32.933761</td>\n",
       "    </tr>\n",
       "    <tr>\n",
       "      <th>44</th>\n",
       "      <td>accommodates_scaled</td>\n",
       "      <td>31.588633</td>\n",
       "    </tr>\n",
       "    <tr>\n",
       "      <th>46</th>\n",
       "      <td>bathrooms_scaled</td>\n",
       "      <td>24.511624</td>\n",
       "    </tr>\n",
       "    <tr>\n",
       "      <th>17</th>\n",
       "      <td>Elevator in Building</td>\n",
       "      <td>14.042255</td>\n",
       "    </tr>\n",
       "    <tr>\n",
       "      <th>8</th>\n",
       "      <td>Hot Tub</td>\n",
       "      <td>13.465526</td>\n",
       "    </tr>\n",
       "    <tr>\n",
       "      <th>45</th>\n",
       "      <td>beds_scaled</td>\n",
       "      <td>9.065048</td>\n",
       "    </tr>\n",
       "    <tr>\n",
       "      <th>22</th>\n",
       "      <td>Indoor Fireplace</td>\n",
       "      <td>8.844352</td>\n",
       "    </tr>\n",
       "    <tr>\n",
       "      <th>32</th>\n",
       "      <td>Other pet(s)</td>\n",
       "      <td>6.502167</td>\n",
       "    </tr>\n",
       "    <tr>\n",
       "      <th>12</th>\n",
       "      <td>Lock on Bedroom Door</td>\n",
       "      <td>6.348113</td>\n",
       "    </tr>\n",
       "    <tr>\n",
       "      <th>37</th>\n",
       "      <td>Air Conditioning</td>\n",
       "      <td>5.631442</td>\n",
       "    </tr>\n",
       "    <tr>\n",
       "      <th>38</th>\n",
       "      <td>Dryer</td>\n",
       "      <td>5.558471</td>\n",
       "    </tr>\n",
       "    <tr>\n",
       "      <th>9</th>\n",
       "      <td>Wireless Internet</td>\n",
       "      <td>5.516526</td>\n",
       "    </tr>\n",
       "    <tr>\n",
       "      <th>2</th>\n",
       "      <td>Dog(s)</td>\n",
       "      <td>5.182674</td>\n",
       "    </tr>\n",
       "    <tr>\n",
       "      <th>15</th>\n",
       "      <td>Cable TV</td>\n",
       "      <td>4.645875</td>\n",
       "    </tr>\n",
       "    <tr>\n",
       "      <th>30</th>\n",
       "      <td>First Aid Kit</td>\n",
       "      <td>3.899162</td>\n",
       "    </tr>\n",
       "    <tr>\n",
       "      <th>43</th>\n",
       "      <td>host_is_superhost_scaled</td>\n",
       "      <td>3.441290</td>\n",
       "    </tr>\n",
       "    <tr>\n",
       "      <th>23</th>\n",
       "      <td>Shampoo</td>\n",
       "      <td>3.263682</td>\n",
       "    </tr>\n",
       "    <tr>\n",
       "      <th>1</th>\n",
       "      <td>Safety Card</td>\n",
       "      <td>3.250832</td>\n",
       "    </tr>\n",
       "    <tr>\n",
       "      <th>24</th>\n",
       "      <td>Laptop Friendly Workspace</td>\n",
       "      <td>3.096263</td>\n",
       "    </tr>\n",
       "    <tr>\n",
       "      <th>39</th>\n",
       "      <td>Cat(s)</td>\n",
       "      <td>2.849785</td>\n",
       "    </tr>\n",
       "    <tr>\n",
       "      <th>10</th>\n",
       "      <td>Suitable for Events</td>\n",
       "      <td>2.606744</td>\n",
       "    </tr>\n",
       "    <tr>\n",
       "      <th>20</th>\n",
       "      <td>Gym</td>\n",
       "      <td>1.605672</td>\n",
       "    </tr>\n",
       "    <tr>\n",
       "      <th>7</th>\n",
       "      <td>Buzzer/Wireless Intercom</td>\n",
       "      <td>1.450635</td>\n",
       "    </tr>\n",
       "    <tr>\n",
       "      <th>18</th>\n",
       "      <td>Internet</td>\n",
       "      <td>1.067799</td>\n",
       "    </tr>\n",
       "    <tr>\n",
       "      <th>28</th>\n",
       "      <td>Kitchen</td>\n",
       "      <td>0.749732</td>\n",
       "    </tr>\n",
       "    <tr>\n",
       "      <th>5</th>\n",
       "      <td>TV</td>\n",
       "      <td>-0.460787</td>\n",
       "    </tr>\n",
       "    <tr>\n",
       "      <th>27</th>\n",
       "      <td>Fire Extinguisher</td>\n",
       "      <td>-1.525816</td>\n",
       "    </tr>\n",
       "    <tr>\n",
       "      <th>19</th>\n",
       "      <td>Wheelchair Accessible</td>\n",
       "      <td>-1.565768</td>\n",
       "    </tr>\n",
       "    <tr>\n",
       "      <th>40</th>\n",
       "      <td>Hair Dryer</td>\n",
       "      <td>-2.195283</td>\n",
       "    </tr>\n",
       "    <tr>\n",
       "      <th>6</th>\n",
       "      <td>Carbon Monoxide Detector</td>\n",
       "      <td>-3.199502</td>\n",
       "    </tr>\n",
       "    <tr>\n",
       "      <th>48</th>\n",
       "      <td>room_type_Private room</td>\n",
       "      <td>-3.302814</td>\n",
       "    </tr>\n",
       "    <tr>\n",
       "      <th>41</th>\n",
       "      <td>token_count_scaled</td>\n",
       "      <td>-3.433277</td>\n",
       "    </tr>\n",
       "    <tr>\n",
       "      <th>16</th>\n",
       "      <td>Breakfast</td>\n",
       "      <td>-3.444138</td>\n",
       "    </tr>\n",
       "    <tr>\n",
       "      <th>29</th>\n",
       "      <td>Smoke Detector</td>\n",
       "      <td>-3.486915</td>\n",
       "    </tr>\n",
       "    <tr>\n",
       "      <th>4</th>\n",
       "      <td>Pets Allowed</td>\n",
       "      <td>-3.578751</td>\n",
       "    </tr>\n",
       "    <tr>\n",
       "      <th>14</th>\n",
       "      <td>Pool</td>\n",
       "      <td>-3.743679</td>\n",
       "    </tr>\n",
       "    <tr>\n",
       "      <th>0</th>\n",
       "      <td>Family/Kid Friendly</td>\n",
       "      <td>-4.753474</td>\n",
       "    </tr>\n",
       "    <tr>\n",
       "      <th>11</th>\n",
       "      <td>Iron</td>\n",
       "      <td>-4.763372</td>\n",
       "    </tr>\n",
       "    <tr>\n",
       "      <th>42</th>\n",
       "      <td>number_of_reviews_scaled</td>\n",
       "      <td>-4.839157</td>\n",
       "    </tr>\n",
       "    <tr>\n",
       "      <th>33</th>\n",
       "      <td>Essentials</td>\n",
       "      <td>-4.840329</td>\n",
       "    </tr>\n",
       "    <tr>\n",
       "      <th>26</th>\n",
       "      <td>Pets live on this property</td>\n",
       "      <td>-5.230173</td>\n",
       "    </tr>\n",
       "    <tr>\n",
       "      <th>3</th>\n",
       "      <td>24-Hour Check-in</td>\n",
       "      <td>-5.797489</td>\n",
       "    </tr>\n",
       "    <tr>\n",
       "      <th>34</th>\n",
       "      <td>Heating</td>\n",
       "      <td>-6.038342</td>\n",
       "    </tr>\n",
       "    <tr>\n",
       "      <th>35</th>\n",
       "      <td>Free Parking on Premises</td>\n",
       "      <td>-6.349892</td>\n",
       "    </tr>\n",
       "    <tr>\n",
       "      <th>21</th>\n",
       "      <td>Washer</td>\n",
       "      <td>-7.530514</td>\n",
       "    </tr>\n",
       "    <tr>\n",
       "      <th>31</th>\n",
       "      <td>Hangers</td>\n",
       "      <td>-9.668970</td>\n",
       "    </tr>\n",
       "    <tr>\n",
       "      <th>13</th>\n",
       "      <td>Smoking Allowed</td>\n",
       "      <td>-11.775741</td>\n",
       "    </tr>\n",
       "    <tr>\n",
       "      <th>25</th>\n",
       "      <td>Washer / Dryer</td>\n",
       "      <td>-21.124203</td>\n",
       "    </tr>\n",
       "    <tr>\n",
       "      <th>49</th>\n",
       "      <td>room_type_Shared room</td>\n",
       "      <td>-29.630947</td>\n",
       "    </tr>\n",
       "  </tbody>\n",
       "</table>\n",
       "</div>"
      ],
      "text/plain": [
       "                       feature  importance\n",
       "36                     Doorman   37.092464\n",
       "47   room_type_Entire home/apt   32.933761\n",
       "44         accommodates_scaled   31.588633\n",
       "46            bathrooms_scaled   24.511624\n",
       "17        Elevator in Building   14.042255\n",
       "8                      Hot Tub   13.465526\n",
       "45                 beds_scaled    9.065048\n",
       "22            Indoor Fireplace    8.844352\n",
       "32                Other pet(s)    6.502167\n",
       "12        Lock on Bedroom Door    6.348113\n",
       "37            Air Conditioning    5.631442\n",
       "38                       Dryer    5.558471\n",
       "9            Wireless Internet    5.516526\n",
       "2                       Dog(s)    5.182674\n",
       "15                    Cable TV    4.645875\n",
       "30               First Aid Kit    3.899162\n",
       "43    host_is_superhost_scaled    3.441290\n",
       "23                     Shampoo    3.263682\n",
       "1                  Safety Card    3.250832\n",
       "24   Laptop Friendly Workspace    3.096263\n",
       "39                      Cat(s)    2.849785\n",
       "10         Suitable for Events    2.606744\n",
       "20                         Gym    1.605672\n",
       "7     Buzzer/Wireless Intercom    1.450635\n",
       "18                    Internet    1.067799\n",
       "28                     Kitchen    0.749732\n",
       "5                           TV   -0.460787\n",
       "27           Fire Extinguisher   -1.525816\n",
       "19       Wheelchair Accessible   -1.565768\n",
       "40                  Hair Dryer   -2.195283\n",
       "6     Carbon Monoxide Detector   -3.199502\n",
       "48      room_type_Private room   -3.302814\n",
       "41          token_count_scaled   -3.433277\n",
       "16                   Breakfast   -3.444138\n",
       "29              Smoke Detector   -3.486915\n",
       "4                 Pets Allowed   -3.578751\n",
       "14                        Pool   -3.743679\n",
       "0          Family/Kid Friendly   -4.753474\n",
       "11                        Iron   -4.763372\n",
       "42    number_of_reviews_scaled   -4.839157\n",
       "33                  Essentials   -4.840329\n",
       "26  Pets live on this property   -5.230173\n",
       "3             24-Hour Check-in   -5.797489\n",
       "34                     Heating   -6.038342\n",
       "35    Free Parking on Premises   -6.349892\n",
       "21                      Washer   -7.530514\n",
       "31                     Hangers   -9.668970\n",
       "13             Smoking Allowed  -11.775741\n",
       "25              Washer / Dryer  -21.124203\n",
       "49       room_type_Shared room  -29.630947"
      ]
     },
     "execution_count": 78,
     "metadata": {},
     "output_type": "execute_result"
    }
   ],
   "source": [
    "coefficients.sort_values('importance', ascending=False)"
   ]
  },
  {
   "cell_type": "markdown",
   "id": "c2d278c8",
   "metadata": {},
   "source": [
    "Fit a Random Forest Model"
   ]
  },
  {
   "cell_type": "code",
   "execution_count": 79,
   "id": "f25a1337",
   "metadata": {},
   "outputs": [
    {
     "name": "stdout",
     "output_type": "stream",
     "text": [
      "Training R^2: 0.7132903804864408\n",
      "Test R^2: 0.4778092314005826\n",
      "RMSE:  65.66115286694792\n"
     ]
    }
   ],
   "source": [
    "rf = RandomForestRegressor(max_depth=8, max_features='sqrt', random_state=42)\n",
    "rf.fit(X_train, y_train)\n",
    "print(\"Training R^2:\",rf.score(X_train, y_train))\n",
    "y_test_preds = rf.predict(X_test)\n",
    "print(\"Test R^2:\", rf.score(X_test, y_test))\n",
    "print('RMSE: ',math.sqrt(mean_squared_error(y_test, y_test_preds)))"
   ]
  },
  {
   "cell_type": "code",
   "execution_count": 80,
   "id": "c7d8254a",
   "metadata": {},
   "outputs": [
    {
     "data": {
      "text/plain": [
       "<AxesSubplot:xlabel='feature'>"
      ]
     },
     "execution_count": 80,
     "metadata": {},
     "output_type": "execute_result"
    },
    {
     "data": {
      "image/png": "[encoded data removed]",
      "text/plain": [
       "<Figure size 432x288 with 1 Axes>"
      ]
     },
     "metadata": {
      "needs_background": "light"
     },
     "output_type": "display_data"
    }
   ],
   "source": [
    "rf_coefficients = pd.DataFrame({'feature': X_train.columns, 'importance': rf.feature_importances_})\n",
    "rf_coefficients.sort_values('importance', ascending=False)[:25].plot(x='feature', y='importance', kind='bar')"
   ]
  },
  {
   "cell_type": "markdown",
   "id": "13cee25d",
   "metadata": {},
   "source": [
    "Use the top 15 fields to fit a new model and check for improved performance"
   ]
  },
  {
   "cell_type": "code",
   "execution_count": 81,
   "id": "d9a89671",
   "metadata": {},
   "outputs": [],
   "source": [
    "model_cols = rf_coefficients.sort_values('importance', ascending=False).head(15).feature.tolist()"
   ]
  },
  {
   "cell_type": "code",
   "execution_count": 82,
   "id": "e865f6d5",
   "metadata": {},
   "outputs": [
    {
     "data": {
      "text/plain": [
       "['accommodates_scaled',\n",
       " 'bathrooms_scaled',\n",
       " 'beds_scaled',\n",
       " 'room_type_Entire home/apt',\n",
       " 'room_type_Private room',\n",
       " 'token_count_scaled',\n",
       " 'number_of_reviews_scaled',\n",
       " 'Family/Kid Friendly',\n",
       " 'Indoor Fireplace',\n",
       " 'Cable TV',\n",
       " 'TV',\n",
       " 'Hot Tub',\n",
       " 'Elevator in Building',\n",
       " 'Pool',\n",
       " 'Gym']"
      ]
     },
     "execution_count": 82,
     "metadata": {},
     "output_type": "execute_result"
    }
   ],
   "source": [
    "model_cols"
   ]
  },
  {
   "cell_type": "code",
   "execution_count": 83,
   "id": "30f845d2",
   "metadata": {},
   "outputs": [],
   "source": [
    "X_train_sub, X_test_sub, y_train_sub, y_test_sub = train_test_split(model_df[model_cols],model_df['price'],test_size=0.2, random_state=42)"
   ]
  },
  {
   "cell_type": "markdown",
   "id": "3b72fea7",
   "metadata": {},
   "source": [
    "The second iteration of the model is only a modest improvement upon the original. Random Forest performs better. However, the R^2 is not a particularly strong result"
   ]
  },
  {
   "cell_type": "code",
   "execution_count": 84,
   "id": "35bd6f2a",
   "metadata": {},
   "outputs": [
    {
     "name": "stdout",
     "output_type": "stream",
     "text": [
      "Training R^2: 0.5907815956023149\n",
      "Test R^2: 0.4702071441069723\n",
      "RMSE:  66.13737558380937\n"
     ]
    }
   ],
   "source": [
    "rf = RandomForestRegressor(max_depth=5, max_features='sqrt', random_state=42)\n",
    "rf.fit(X_train_sub, y_train_sub)\n",
    "print(\"Training R^2:\",rf.score(X_train_sub, y_train_sub))\n",
    "y_test_preds_sub = rf.predict(X_test_sub)\n",
    "print(\"Test R^2:\",rf.score(X_test_sub, y_test_sub))\n",
    "print('RMSE: ',math.sqrt(mean_squared_error(y_test_sub, y_test_preds_sub)))"
   ]
  },
  {
   "cell_type": "markdown",
   "id": "eb14d457",
   "metadata": {},
   "source": [
    "Using a subset of the available fields did not provide a better model score. However, give that it wasn't much worse, it may be useful in a real-world setting given less need to gather and process data. \n",
    "\n",
    "Although the model's results are somewhat disappointing, we have found some of the more important factors involved in determining the price of a listing. Total accommodations, bathrooms, and beds are very important, as well as having an entire home/apt or a private room. The number of reviews appears to boost the price as well, though to a lesser degree. Each of the amenities we pulled out contribute to the model as well. Intuitively, I believe a better a model would include a more thorough analysis of the host, listing description, and reviews. Another important factor that renters use to make decisions involves the pictures available and the location in regard to their reasons for visiting. Some of the error in the model is undoubtedly due to not knowing the purpose of a visit. "
   ]
  },
  {
   "cell_type": "code",
   "execution_count": null,
   "id": "00a1b173",
   "metadata": {},
   "outputs": [],
   "source": []
  }
 ],
 "metadata": {
  "hide_input": false,
  "kernelspec": {
   "display_name": "Python 3",
   "language": "python",
   "name": "python3"
  },
  "language_info": {
   "codemirror_mode": {
    "name": "ipython",
    "version": 3
   },
   "file_extension": ".py",
   "mimetype": "text/x-python",
   "name": "python",
   "nbconvert_exporter": "python",
   "pygments_lexer": "ipython3",
   "version": "3.7.4"
  }
 },
 "nbformat": 4,
 "nbformat_minor": 5
}
